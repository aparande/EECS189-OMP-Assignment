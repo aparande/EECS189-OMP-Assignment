{
  "nbformat": 4,
  "nbformat_minor": 0,
  "metadata": {
    "colab": {
      "name": "Assignment.ipynb",
      "provenance": [],
      "collapsed_sections": []
    },
    "kernelspec": {
      "name": "python3",
      "display_name": "Python 3"
    },
    "widgets": {
      "application/vnd.jupyter.widget-state+json": {
        "34ae1182bc7b40d7a7c3359ebabe1381": {
          "model_module": "@jupyter-widgets/controls",
          "model_name": "VBoxModel",
          "state": {
            "_view_name": "VBoxView",
            "_dom_classes": [
              "widget-interact"
            ],
            "_model_name": "VBoxModel",
            "_view_module": "@jupyter-widgets/controls",
            "_model_module_version": "1.5.0",
            "_view_count": null,
            "_view_module_version": "1.5.0",
            "box_style": "",
            "layout": "IPY_MODEL_a70c62ce30ad47a382832d3da028900a",
            "_model_module": "@jupyter-widgets/controls",
            "children": [
              "IPY_MODEL_09f9c03c492f4f8381588f471ce38a82",
              "IPY_MODEL_d41db2f49437440a8d934297f07d4ba9"
            ]
          }
        },
        "a70c62ce30ad47a382832d3da028900a": {
          "model_module": "@jupyter-widgets/base",
          "model_name": "LayoutModel",
          "state": {
            "_view_name": "LayoutView",
            "grid_template_rows": null,
            "right": null,
            "justify_content": null,
            "_view_module": "@jupyter-widgets/base",
            "overflow": null,
            "_model_module_version": "1.2.0",
            "_view_count": null,
            "flex_flow": null,
            "width": null,
            "min_width": null,
            "border": null,
            "align_items": null,
            "bottom": null,
            "_model_module": "@jupyter-widgets/base",
            "top": null,
            "grid_column": null,
            "overflow_y": null,
            "overflow_x": null,
            "grid_auto_flow": null,
            "grid_area": null,
            "grid_template_columns": null,
            "flex": null,
            "_model_name": "LayoutModel",
            "justify_items": null,
            "grid_row": null,
            "max_height": null,
            "align_content": null,
            "visibility": null,
            "align_self": null,
            "height": null,
            "min_height": null,
            "padding": null,
            "grid_auto_rows": null,
            "grid_gap": null,
            "max_width": null,
            "order": null,
            "_view_module_version": "1.2.0",
            "grid_template_areas": null,
            "object_position": null,
            "object_fit": null,
            "grid_auto_columns": null,
            "margin": null,
            "display": null,
            "left": null
          }
        },
        "09f9c03c492f4f8381588f471ce38a82": {
          "model_module": "@jupyter-widgets/controls",
          "model_name": "IntSliderModel",
          "state": {
            "_view_name": "IntSliderView",
            "style": "IPY_MODEL_af53bf95cfc04e5c8f51578c712e91d8",
            "_dom_classes": [],
            "description": "Sparisty k",
            "step": 1,
            "_model_name": "IntSliderModel",
            "orientation": "horizontal",
            "max": 50,
            "_view_module": "@jupyter-widgets/controls",
            "_model_module_version": "1.5.0",
            "value": 0,
            "_view_count": null,
            "disabled": false,
            "_view_module_version": "1.5.0",
            "min": 0,
            "continuous_update": false,
            "readout_format": "d",
            "description_tooltip": null,
            "readout": true,
            "_model_module": "@jupyter-widgets/controls",
            "layout": "IPY_MODEL_28dc30ce6752409399df6de11ddd1178"
          }
        },
        "d41db2f49437440a8d934297f07d4ba9": {
          "model_module": "@jupyter-widgets/output",
          "model_name": "OutputModel",
          "state": {
            "_view_name": "OutputView",
            "msg_id": "",
            "_dom_classes": [],
            "_model_name": "OutputModel",
            "outputs": [
              {
                "output_type": "display_data",
                "metadata": {
                  "tags": [],
                  "needs_background": "light"
                },
                "image/png": "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\n",
                "text/plain": "<Figure size 432x288 with 1 Axes>"
              },
              {
                "output_type": "display_data",
                "metadata": {
                  "tags": [],
                  "needs_background": "light"
                },
                "image/png": "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\n",
                "text/plain": "<Figure size 432x288 with 1 Axes>"
              }
            ],
            "_view_module": "@jupyter-widgets/output",
            "_model_module_version": "1.0.0",
            "_view_count": null,
            "_view_module_version": "1.0.0",
            "layout": "IPY_MODEL_5638593eee1c4932acaf1a39ffcc4d72",
            "_model_module": "@jupyter-widgets/output"
          }
        },
        "af53bf95cfc04e5c8f51578c712e91d8": {
          "model_module": "@jupyter-widgets/controls",
          "model_name": "SliderStyleModel",
          "state": {
            "_view_name": "StyleView",
            "handle_color": null,
            "_model_name": "SliderStyleModel",
            "description_width": "",
            "_view_module": "@jupyter-widgets/base",
            "_model_module_version": "1.5.0",
            "_view_count": null,
            "_view_module_version": "1.2.0",
            "_model_module": "@jupyter-widgets/controls"
          }
        },
        "28dc30ce6752409399df6de11ddd1178": {
          "model_module": "@jupyter-widgets/base",
          "model_name": "LayoutModel",
          "state": {
            "_view_name": "LayoutView",
            "grid_template_rows": null,
            "right": null,
            "justify_content": null,
            "_view_module": "@jupyter-widgets/base",
            "overflow": null,
            "_model_module_version": "1.2.0",
            "_view_count": null,
            "flex_flow": null,
            "width": null,
            "min_width": null,
            "border": null,
            "align_items": null,
            "bottom": null,
            "_model_module": "@jupyter-widgets/base",
            "top": null,
            "grid_column": null,
            "overflow_y": null,
            "overflow_x": null,
            "grid_auto_flow": null,
            "grid_area": null,
            "grid_template_columns": null,
            "flex": null,
            "_model_name": "LayoutModel",
            "justify_items": null,
            "grid_row": null,
            "max_height": null,
            "align_content": null,
            "visibility": null,
            "align_self": null,
            "height": null,
            "min_height": null,
            "padding": null,
            "grid_auto_rows": null,
            "grid_gap": null,
            "max_width": null,
            "order": null,
            "_view_module_version": "1.2.0",
            "grid_template_areas": null,
            "object_position": null,
            "object_fit": null,
            "grid_auto_columns": null,
            "margin": null,
            "display": null,
            "left": null
          }
        },
        "5638593eee1c4932acaf1a39ffcc4d72": {
          "model_module": "@jupyter-widgets/base",
          "model_name": "LayoutModel",
          "state": {
            "_view_name": "LayoutView",
            "grid_template_rows": null,
            "right": null,
            "justify_content": null,
            "_view_module": "@jupyter-widgets/base",
            "overflow": null,
            "_model_module_version": "1.2.0",
            "_view_count": null,
            "flex_flow": null,
            "width": null,
            "min_width": null,
            "border": null,
            "align_items": null,
            "bottom": null,
            "_model_module": "@jupyter-widgets/base",
            "top": null,
            "grid_column": null,
            "overflow_y": null,
            "overflow_x": null,
            "grid_auto_flow": null,
            "grid_area": null,
            "grid_template_columns": null,
            "flex": null,
            "_model_name": "LayoutModel",
            "justify_items": null,
            "grid_row": null,
            "max_height": null,
            "align_content": null,
            "visibility": null,
            "align_self": null,
            "height": null,
            "min_height": null,
            "padding": null,
            "grid_auto_rows": null,
            "grid_gap": null,
            "max_width": null,
            "order": null,
            "_view_module_version": "1.2.0",
            "grid_template_areas": null,
            "object_position": null,
            "object_fit": null,
            "grid_auto_columns": null,
            "margin": null,
            "display": null,
            "left": null
          }
        },
        "7f17fca941d3426e9f100cb41ba8b163": {
          "model_module": "@jupyter-widgets/controls",
          "model_name": "VBoxModel",
          "state": {
            "_view_name": "VBoxView",
            "_dom_classes": [
              "widget-interact"
            ],
            "_model_name": "VBoxModel",
            "_view_module": "@jupyter-widgets/controls",
            "_model_module_version": "1.5.0",
            "_view_count": null,
            "_view_module_version": "1.5.0",
            "box_style": "",
            "layout": "IPY_MODEL_f92e2bfb458a40cc80ffe1a9c49b2a89",
            "_model_module": "@jupyter-widgets/controls",
            "children": [
              "IPY_MODEL_32e28f45d8f848a8b61a2fad86ed25cd",
              "IPY_MODEL_e0cf92deb1fe4c788f4ad8011775ef10"
            ]
          }
        },
        "f92e2bfb458a40cc80ffe1a9c49b2a89": {
          "model_module": "@jupyter-widgets/base",
          "model_name": "LayoutModel",
          "state": {
            "_view_name": "LayoutView",
            "grid_template_rows": null,
            "right": null,
            "justify_content": null,
            "_view_module": "@jupyter-widgets/base",
            "overflow": null,
            "_model_module_version": "1.2.0",
            "_view_count": null,
            "flex_flow": null,
            "width": null,
            "min_width": null,
            "border": null,
            "align_items": null,
            "bottom": null,
            "_model_module": "@jupyter-widgets/base",
            "top": null,
            "grid_column": null,
            "overflow_y": null,
            "overflow_x": null,
            "grid_auto_flow": null,
            "grid_area": null,
            "grid_template_columns": null,
            "flex": null,
            "_model_name": "LayoutModel",
            "justify_items": null,
            "grid_row": null,
            "max_height": null,
            "align_content": null,
            "visibility": null,
            "align_self": null,
            "height": null,
            "min_height": null,
            "padding": null,
            "grid_auto_rows": null,
            "grid_gap": null,
            "max_width": null,
            "order": null,
            "_view_module_version": "1.2.0",
            "grid_template_areas": null,
            "object_position": null,
            "object_fit": null,
            "grid_auto_columns": null,
            "margin": null,
            "display": null,
            "left": null
          }
        },
        "32e28f45d8f848a8b61a2fad86ed25cd": {
          "model_module": "@jupyter-widgets/controls",
          "model_name": "IntSliderModel",
          "state": {
            "_view_name": "IntSliderView",
            "style": "IPY_MODEL_97f6fc790a254fe19128188e9e3f80a6",
            "_dom_classes": [],
            "description": "Sparisty k",
            "step": 1,
            "_model_name": "IntSliderModel",
            "orientation": "horizontal",
            "max": 50,
            "_view_module": "@jupyter-widgets/controls",
            "_model_module_version": "1.5.0",
            "value": 0,
            "_view_count": null,
            "disabled": false,
            "_view_module_version": "1.5.0",
            "min": 0,
            "continuous_update": false,
            "readout_format": "d",
            "description_tooltip": null,
            "readout": true,
            "_model_module": "@jupyter-widgets/controls",
            "layout": "IPY_MODEL_f3fab6b4abb8461eb87e083bd3249e9b"
          }
        },
        "e0cf92deb1fe4c788f4ad8011775ef10": {
          "model_module": "@jupyter-widgets/output",
          "model_name": "OutputModel",
          "state": {
            "_view_name": "OutputView",
            "msg_id": "",
            "_dom_classes": [],
            "_model_name": "OutputModel",
            "outputs": [
              {
                "output_type": "stream",
                "metadata": {
                  "tags": []
                },
                "text": "MSE:  1053.4244548388301\n",
                "stream": "stdout"
              }
            ],
            "_view_module": "@jupyter-widgets/output",
            "_model_module_version": "1.0.0",
            "_view_count": null,
            "_view_module_version": "1.0.0",
            "layout": "IPY_MODEL_65192db9cb874439b958e7ac2b033950",
            "_model_module": "@jupyter-widgets/output"
          }
        },
        "97f6fc790a254fe19128188e9e3f80a6": {
          "model_module": "@jupyter-widgets/controls",
          "model_name": "SliderStyleModel",
          "state": {
            "_view_name": "StyleView",
            "handle_color": null,
            "_model_name": "SliderStyleModel",
            "description_width": "",
            "_view_module": "@jupyter-widgets/base",
            "_model_module_version": "1.5.0",
            "_view_count": null,
            "_view_module_version": "1.2.0",
            "_model_module": "@jupyter-widgets/controls"
          }
        },
        "f3fab6b4abb8461eb87e083bd3249e9b": {
          "model_module": "@jupyter-widgets/base",
          "model_name": "LayoutModel",
          "state": {
            "_view_name": "LayoutView",
            "grid_template_rows": null,
            "right": null,
            "justify_content": null,
            "_view_module": "@jupyter-widgets/base",
            "overflow": null,
            "_model_module_version": "1.2.0",
            "_view_count": null,
            "flex_flow": null,
            "width": null,
            "min_width": null,
            "border": null,
            "align_items": null,
            "bottom": null,
            "_model_module": "@jupyter-widgets/base",
            "top": null,
            "grid_column": null,
            "overflow_y": null,
            "overflow_x": null,
            "grid_auto_flow": null,
            "grid_area": null,
            "grid_template_columns": null,
            "flex": null,
            "_model_name": "LayoutModel",
            "justify_items": null,
            "grid_row": null,
            "max_height": null,
            "align_content": null,
            "visibility": null,
            "align_self": null,
            "height": null,
            "min_height": null,
            "padding": null,
            "grid_auto_rows": null,
            "grid_gap": null,
            "max_width": null,
            "order": null,
            "_view_module_version": "1.2.0",
            "grid_template_areas": null,
            "object_position": null,
            "object_fit": null,
            "grid_auto_columns": null,
            "margin": null,
            "display": null,
            "left": null
          }
        },
        "65192db9cb874439b958e7ac2b033950": {
          "model_module": "@jupyter-widgets/base",
          "model_name": "LayoutModel",
          "state": {
            "_view_name": "LayoutView",
            "grid_template_rows": null,
            "right": null,
            "justify_content": null,
            "_view_module": "@jupyter-widgets/base",
            "overflow": null,
            "_model_module_version": "1.2.0",
            "_view_count": null,
            "flex_flow": null,
            "width": null,
            "min_width": null,
            "border": null,
            "align_items": null,
            "bottom": null,
            "_model_module": "@jupyter-widgets/base",
            "top": null,
            "grid_column": null,
            "overflow_y": null,
            "overflow_x": null,
            "grid_auto_flow": null,
            "grid_area": null,
            "grid_template_columns": null,
            "flex": null,
            "_model_name": "LayoutModel",
            "justify_items": null,
            "grid_row": null,
            "max_height": null,
            "align_content": null,
            "visibility": null,
            "align_self": null,
            "height": null,
            "min_height": null,
            "padding": null,
            "grid_auto_rows": null,
            "grid_gap": null,
            "max_width": null,
            "order": null,
            "_view_module_version": "1.2.0",
            "grid_template_areas": null,
            "object_position": null,
            "object_fit": null,
            "grid_auto_columns": null,
            "margin": null,
            "display": null,
            "left": null
          }
        }
      }
    }
  },
  "cells": [
    {
      "cell_type": "code",
      "metadata": {
        "id": "7BDt0Ih0zmTV"
      },
      "source": [
        "import numpy as np \n",
        "import pandas as pd\n",
        "import sklearn \n",
        "import matplotlib.pyplot as plt\n",
        "from numpy import genfromtxt\n",
        "from sklearn.preprocessing import LabelEncoder, OneHotEncoder, FunctionTransformer\n",
        "from sklearn.model_selection import train_test_split\n",
        "from sklearn.preprocessing import StandardScaler\n",
        "from sklearn.linear_model import LinearRegression\n",
        "from sklearn.metrics import mean_squared_error, r2_score\n",
        "import ipywidgets as widgets\n",
        "from ipywidgets import interactive\n",
        "from sklearn.datasets import load_boston\n",
        "import seaborn as sns"
      ],
      "execution_count": 299,
      "outputs": []
    },
    {
      "cell_type": "markdown",
      "metadata": {
        "id": "bOEFOEyDB4cG"
      },
      "source": [
        "# Orthogonal Matching Pursuit for Outlier Removal on a 1D Data Set\n",
        "\n",
        "  The first portion of this assignemnts introduces a basic example of using OMP for outlier removal using a simple linear data set. Using the provided functions, you will visualize a dataset with outliers and answer the following questions. The second task is to code the OMP Greedy Algorithm from scratch using only numpy functions and native python functions. This will then be used for the rest of the assignment so be sure that your algorithm works for the dummy dataset.\n",
        "  \n",
        "Recall that the pseudocode for OMP is provided for you in the note/lecture slides as well as the mathematical intuition behind the algorithm. Your goal here is to implement this algorithm on a dummy dataset for easy visualization and testing, and then to a real multidimensional data set. "
      ]
    },
    {
      "cell_type": "markdown",
      "metadata": {
        "id": "ELkOf6AfaX8D"
      },
      "source": [
        "# Outlier Detection on Dummy Data"
      ]
    },
    {
      "cell_type": "code",
      "metadata": {
        "id": "BXATvsgeJX-E"
      },
      "source": [
        "# Provided function for generating a dummy set \n",
        "def generate_data(n, d, num_outliers): # Code from HW2 Prob 5 OMP Outlier Removal for CS 189\n",
        "    \"\"\"\n",
        "    Generates the data for our problem.\n",
        "    \n",
        "    args:\n",
        "      n: number of samples\n",
        "      d: dimension of samples\n",
        "      num_outliers: how many outliers are in the noisy observations;\n",
        "        we model outliers by adding large Gaussian noise\n",
        "                      \n",
        "    returns:\n",
        "      data: the nxd data matrix X\n",
        "      w_star: the underlying dx1 matrix W\n",
        "      observations: nx1 vector of noisy observations with outliers\n",
        "      \n",
        "    \"\"\"\n",
        "    \n",
        "    w_star = np.random.uniform(2.0,20.0,(d,1))\n",
        "    data = np.random.uniform(0.0,10.0,(n,d))\n",
        "    y_true = np.dot(data,w_star)\n",
        "    ind = np.random.choice(np.arange(n), num_outliers, False)\n",
        "    vec = 0.1*np.ones((n,1))\n",
        "    for a in ind:\n",
        "        vec[a] = 100.000\n",
        "    observations = np.random.multivariate_normal(\n",
        "                        np.ndarray.flatten(y_true), np.diagflat(vec))\n",
        "    for a in ind:\n",
        "        observations[a] += 40.000\n",
        "    return data, w_star, observations\n"
      ],
      "execution_count": 300,
      "outputs": []
    },
    {
      "cell_type": "markdown",
      "metadata": {
        "id": "XrFk064jD3wJ"
      },
      "source": [
        "## Visualize dummy data\n",
        "Using the function above that is taken from CS189 HW2 Q5: \n",
        "1. Generate a dataset of 50 points that is one dimensional so that you can visualize the graph. Then you can choose the inital number of outliers to anything between 1-20. \n",
        "2. Then using the sklearn library imported above split the data into a 80 percent size training set and a 20 percent size testing set. The students may choose whether to use the built in sklearn function or select the data themselves. \n",
        "3. Visualize the scatter plot of the training data\n",
        "4. Train a Linear Regression model on the training data and plot the learned function."
      ]
    },
    {
      "cell_type": "code",
      "metadata": {
        "colab": {
          "base_uri": "https://localhost:8080/",
          "height": 286
        },
        "id": "eL_OEcmZKOcl",
        "outputId": "32ccc5c2-9402-4adb-92c2-aa7346820fae"
      },
      "source": [
        "# TODO:\n",
        "n = 50\n",
        "d = 1\n",
        "num_outliers = 10\n",
        "X, w_star, y = generate_data(n,d,num_outliers) \n",
        "X_train, X_test, y_train, y_test = train_test_split(X, y, test_size = 0.2)\n",
        "plt.scatter(X_train, y_train)\n",
        "\n",
        "model = LinearRegression()\n",
        "model.fit(X_train, y_train)\n",
        "y_pred = model.predict(X_train)\n",
        "plt.plot(X_train, y_pred, color='orange')"
      ],
      "execution_count": 301,
      "outputs": [
        {
          "output_type": "execute_result",
          "data": {
            "text/plain": [
              "[<matplotlib.lines.Line2D at 0x7f1c558772b0>]"
            ]
          },
          "metadata": {
            "tags": []
          },
          "execution_count": 301
        },
        {
          "output_type": "display_data",
          "data": {
            "image/png": "[encoded data removed]",
            "text/plain": [
              "<Figure size 432x288 with 1 Axes>"
            ]
          },
          "metadata": {
            "tags": [],
            "needs_background": "light"
          }
        }
      ]
    },
    {
      "cell_type": "markdown",
      "metadata": {
        "id": "POyM45phE4JP"
      },
      "source": [
        "## Implementing OMP Algorithm\n",
        "In your plot, you should see that your learned function doesn't fit your true linear function exactly - it is being skewed by the outliers. In the lecture and note, we learned how OMP can be used for outlier detection. To help find a better regression line, we will utilize OMP on the dummy dataset.\n",
        "\n",
        "**Implement the OMP algorithm below.** The inputs and outputs have already been defined for you so all you have to code is the algorithm itself. For this part, **DO NOT USE: sklearn's OMP algorithm**. Only use numpy and native python functions to code the entirety of the algorithm. "
      ]
    },
    {
      "cell_type": "code",
      "metadata": {
        "id": "pkNCwuBHCg0b"
      },
      "source": [
        "def omp_outlier_detection(X, y, k, threshold=0):\n",
        "  # Input:\n",
        "  #   X: Features of data to run outlier detection on\n",
        "  #   y: Labels of data to run outlier detection on\n",
        "  #   k: Sparsity (How many outliers to detect)\n",
        "  # Output:\n",
        "  #   F: Array of indices of outliers\n",
        "\n",
        "  # TODO: Implement OMP\n",
        "\n",
        "  #***SOLUTION***\n",
        "  r = y - X@(np.linalg.inv(X.T@X))@X.T@y\n",
        "  j = 1\n",
        "  A = X\n",
        "  F = []\n",
        "\n",
        "  while j <= k and np.linalg.norm(r) >= threshold:\n",
        "    i = np.argmax(abs(r))\n",
        "    F.append(i)\n",
        "    e_i = np.zeros(A.shape[0])\n",
        "    e_i[i] = 1\n",
        "    e_i = e_i.reshape((e_i.shape[0], 1))\n",
        "    A = np.hstack([A, e_i])\n",
        "    x = np.linalg.pinv(A.T@A)@A.T@y\n",
        "    r = y - A@x\n",
        "    j = j + 1\n",
        "\n",
        "  return F"
      ],
      "execution_count": 302,
      "outputs": []
    },
    {
      "cell_type": "markdown",
      "metadata": {
        "id": "FCBaKEJKFbXs"
      },
      "source": [
        "Below we have provided the necessary code to interactively plot your data and show the outlier removal process as the sparisty value or k is changed in the process. The graphs that are produced will have associated questions. "
      ]
    },
    {
      "cell_type": "code",
      "metadata": {
        "id": "T88QKAv8FhGG",
        "colab": {
          "base_uri": "https://localhost:8080/",
          "height": 605,
          "referenced_widgets": [
            "34ae1182bc7b40d7a7c3359ebabe1381",
            "a70c62ce30ad47a382832d3da028900a",
            "09f9c03c492f4f8381588f471ce38a82",
            "d41db2f49437440a8d934297f07d4ba9",
            "af53bf95cfc04e5c8f51578c712e91d8",
            "28dc30ce6752409399df6de11ddd1178",
            "5638593eee1c4932acaf1a39ffcc4d72"
          ]
        },
        "outputId": "f572be6d-c005-4861-c551-18002bdefedf"
      },
      "source": [
        "def generate_num_outliers():\n",
        "    return widgets.IntSlider(\n",
        "        value=0,\n",
        "        min=0,\n",
        "        max=50,\n",
        "        step=1,\n",
        "        description='Sparisty k',\n",
        "        continuous_update=False)\n",
        "\n",
        "def visualize_OMP(k):\n",
        "  F = omp_outlier_detection(X_train, y_train, k)\n",
        "  outlierArray = X_train[F]\n",
        "  outlierValues = y_train[F]\n",
        "  plt.figure(1)\n",
        "  data1 = plt.scatter(X_train, y_train, color = 'blue')\n",
        "  data2 = plt.scatter(outlierArray, outlierValues, color = 'red')\n",
        "  plt.legend((data1, data2), ('True Function', 'Outliers'))\n",
        "  plt.xlabel(\"X Data\")\n",
        "  plt.ylabel(\"Y Data\")\n",
        "  plt.title(\"Graph before OMP\")\n",
        "\n",
        "  model = LinearRegression()\n",
        "  model.fit(X_train, y_train)\n",
        "  y_pred = model.predict(X_train)\n",
        "  plt.plot(X_train, y_pred, color='orange')\n",
        "\n",
        "  ## Second Plot without the outliers showing\n",
        "  plt.figure(2)\n",
        "  removedX = np.delete(X_train, F).reshape(-1, 1)\n",
        "  removedY = np.delete(y_train, F)\n",
        "  data3 = plt.scatter(removedX, removedY, color = 'green')\n",
        "\n",
        "  omp_model = LinearRegression()\n",
        "  omp_model.fit(removedX, removedY)\n",
        "  y_pred = omp_model.predict(removedX)\n",
        "  plt.plot(removedX, y_pred, color='orange')\n",
        "\n",
        "  plt.title(\"Graph after OMP\")\n",
        "  plt.xlabel(\"X Data\")\n",
        "  plt.ylabel(\"Y Data\")\n",
        "  #plt.legend((data3), ('Resultant Function'))\n",
        "\n",
        "interactive_plot = interactive(visualize_OMP,\n",
        "                               k=generate_num_outliers())\n",
        "interactive_plot\n"
      ],
      "execution_count": 303,
      "outputs": [
        {
          "output_type": "display_data",
          "data": {
            "application/vnd.jupyter.widget-view+json": {
              "model_id": "34ae1182bc7b40d7a7c3359ebabe1381",
              "version_minor": 0,
              "version_major": 2
            },
            "text/plain": [
              "interactive(children=(IntSlider(value=0, continuous_update=False, description='Sparisty k', max=50), Output())…"
            ]
          },
          "metadata": {
            "tags": []
          }
        }
      ]
    },
    {
      "cell_type": "markdown",
      "metadata": {
        "id": "lReIObeXFslF"
      },
      "source": [
        "From the Graphs Above answer the following question: \n",
        "1. **What occurs when the number of k outliers are removed? What happens if this is too high or too low in comparison to the number of actual outliers present?** <br>\n",
        "\n",
        "\n",
        "---\n",
        "\n",
        "\n",
        "ANSWER: It is clear that as you increase k the number of selected points that are removed increases by nature of the OMP algorithm however since there is no implemeneted threshold there is a fault where if k is too high you start to delete non-outlier points and some of the actual well fitted data, while if k is too low then there are still outliers present that affect the predicted fit line of the data. "
      ]
    },
    {
      "cell_type": "markdown",
      "metadata": {
        "id": "lD2vi4kbaRE6"
      },
      "source": [
        "# Outlier Detection on the Forest Fires Dataset\n",
        "\n",
        "Now we will attempt to use OMP outlier detection on a real dataset; we will be working with Forest Fire Dataset sourced from UCI's machine learning data sets. The nature of this dataset is as follows:\n",
        "\n",
        ">There are 517 different data points in this data set that contribute to our X. Each of these datapoints contain 13 features or attributes: The x,y position of the fire in the park, month, day, FFMC, DMC, DC, ISI, temperature, Relative Humidity, Wind, Rain, and our output parameter as the area burned by the fire.\n",
        "\n",
        "We have imported the dataset below for you using the pandas dataframe. You must preprocess the data in the following way.\n",
        "# Preprocessing\n",
        "1. Cut out the X, Y position of the fire attributes, because we don't believe position within the park will be a significant factor of burned area.\n",
        "2. Choose the most correlated features with respect to area.\n",
        "2. Label and One-hot Encoded the Month and Day of the fire.\n",
        "3. Standard scale the features."
      ]
    },
    {
      "cell_type": "code",
      "metadata": {
        "id": "ghc5zmtA1Zci",
        "colab": {
          "base_uri": "https://localhost:8080/",
          "height": 419
        },
        "outputId": "8001ba12-a30d-4021-dd9f-9e3cbd72b022"
      },
      "source": [
        "url = 'https://raw.githubusercontent.com/aparande/EECS189-OMP-Assignment/main/Jupyter%20Assignment/forestfires.csv?token=ACTEYP6ONZJ5E26S3PZYJIK7ZFYMM'\n",
        "df1 = pd.read_csv(url)\n",
        "df1"
      ],
      "execution_count": 304,
      "outputs": [
        {
          "output_type": "execute_result",
          "data": {
            "text/html": [
              "<div>\n",
              "<style scoped>\n",
              "    .dataframe tbody tr th:only-of-type {\n",
              "        vertical-align: middle;\n",
              "    }\n",
              "\n",
              "    .dataframe tbody tr th {\n",
              "        vertical-align: top;\n",
              "    }\n",
              "\n",
              "    .dataframe thead th {\n",
              "        text-align: right;\n",
              "    }\n",
              "</style>\n",
              "<table border=\"1\" class=\"dataframe\">\n",
              "  <thead>\n",
              "    <tr style=\"text-align: right;\">\n",
              "      <th></th>\n",
              "      <th>X</th>\n",
              "      <th>Y</th>\n",
              "      <th>month</th>\n",
              "      <th>day</th>\n",
              "      <th>FFMC</th>\n",
              "      <th>DMC</th>\n",
              "      <th>DC</th>\n",
              "      <th>ISI</th>\n",
              "      <th>temp</th>\n",
              "      <th>RH</th>\n",
              "      <th>wind</th>\n",
              "      <th>rain</th>\n",
              "      <th>area</th>\n",
              "    </tr>\n",
              "  </thead>\n",
              "  <tbody>\n",
              "    <tr>\n",
              "      <th>0</th>\n",
              "      <td>7</td>\n",
              "      <td>5</td>\n",
              "      <td>mar</td>\n",
              "      <td>fri</td>\n",
              "      <td>86.2</td>\n",
              "      <td>26.2</td>\n",
              "      <td>94.3</td>\n",
              "      <td>5.1</td>\n",
              "      <td>8.2</td>\n",
              "      <td>51</td>\n",
              "      <td>6.7</td>\n",
              "      <td>0.0</td>\n",
              "      <td>0.00</td>\n",
              "    </tr>\n",
              "    <tr>\n",
              "      <th>1</th>\n",
              "      <td>7</td>\n",
              "      <td>4</td>\n",
              "      <td>oct</td>\n",
              "      <td>tue</td>\n",
              "      <td>90.6</td>\n",
              "      <td>35.4</td>\n",
              "      <td>669.1</td>\n",
              "      <td>6.7</td>\n",
              "      <td>18.0</td>\n",
              "      <td>33</td>\n",
              "      <td>0.9</td>\n",
              "      <td>0.0</td>\n",
              "      <td>0.00</td>\n",
              "    </tr>\n",
              "    <tr>\n",
              "      <th>2</th>\n",
              "      <td>7</td>\n",
              "      <td>4</td>\n",
              "      <td>oct</td>\n",
              "      <td>sat</td>\n",
              "      <td>90.6</td>\n",
              "      <td>43.7</td>\n",
              "      <td>686.9</td>\n",
              "      <td>6.7</td>\n",
              "      <td>14.6</td>\n",
              "      <td>33</td>\n",
              "      <td>1.3</td>\n",
              "      <td>0.0</td>\n",
              "      <td>0.00</td>\n",
              "    </tr>\n",
              "    <tr>\n",
              "      <th>3</th>\n",
              "      <td>8</td>\n",
              "      <td>6</td>\n",
              "      <td>mar</td>\n",
              "      <td>fri</td>\n",
              "      <td>91.7</td>\n",
              "      <td>33.3</td>\n",
              "      <td>77.5</td>\n",
              "      <td>9.0</td>\n",
              "      <td>8.3</td>\n",
              "      <td>97</td>\n",
              "      <td>4.0</td>\n",
              "      <td>0.2</td>\n",
              "      <td>0.00</td>\n",
              "    </tr>\n",
              "    <tr>\n",
              "      <th>4</th>\n",
              "      <td>8</td>\n",
              "      <td>6</td>\n",
              "      <td>mar</td>\n",
              "      <td>sun</td>\n",
              "      <td>89.3</td>\n",
              "      <td>51.3</td>\n",
              "      <td>102.2</td>\n",
              "      <td>9.6</td>\n",
              "      <td>11.4</td>\n",
              "      <td>99</td>\n",
              "      <td>1.8</td>\n",
              "      <td>0.0</td>\n",
              "      <td>0.00</td>\n",
              "    </tr>\n",
              "    <tr>\n",
              "      <th>...</th>\n",
              "      <td>...</td>\n",
              "      <td>...</td>\n",
              "      <td>...</td>\n",
              "      <td>...</td>\n",
              "      <td>...</td>\n",
              "      <td>...</td>\n",
              "      <td>...</td>\n",
              "      <td>...</td>\n",
              "      <td>...</td>\n",
              "      <td>...</td>\n",
              "      <td>...</td>\n",
              "      <td>...</td>\n",
              "      <td>...</td>\n",
              "    </tr>\n",
              "    <tr>\n",
              "      <th>512</th>\n",
              "      <td>4</td>\n",
              "      <td>3</td>\n",
              "      <td>aug</td>\n",
              "      <td>sun</td>\n",
              "      <td>81.6</td>\n",
              "      <td>56.7</td>\n",
              "      <td>665.6</td>\n",
              "      <td>1.9</td>\n",
              "      <td>27.8</td>\n",
              "      <td>32</td>\n",
              "      <td>2.7</td>\n",
              "      <td>0.0</td>\n",
              "      <td>6.44</td>\n",
              "    </tr>\n",
              "    <tr>\n",
              "      <th>513</th>\n",
              "      <td>2</td>\n",
              "      <td>4</td>\n",
              "      <td>aug</td>\n",
              "      <td>sun</td>\n",
              "      <td>81.6</td>\n",
              "      <td>56.7</td>\n",
              "      <td>665.6</td>\n",
              "      <td>1.9</td>\n",
              "      <td>21.9</td>\n",
              "      <td>71</td>\n",
              "      <td>5.8</td>\n",
              "      <td>0.0</td>\n",
              "      <td>54.29</td>\n",
              "    </tr>\n",
              "    <tr>\n",
              "      <th>514</th>\n",
              "      <td>7</td>\n",
              "      <td>4</td>\n",
              "      <td>aug</td>\n",
              "      <td>sun</td>\n",
              "      <td>81.6</td>\n",
              "      <td>56.7</td>\n",
              "      <td>665.6</td>\n",
              "      <td>1.9</td>\n",
              "      <td>21.2</td>\n",
              "      <td>70</td>\n",
              "      <td>6.7</td>\n",
              "      <td>0.0</td>\n",
              "      <td>11.16</td>\n",
              "    </tr>\n",
              "    <tr>\n",
              "      <th>515</th>\n",
              "      <td>1</td>\n",
              "      <td>4</td>\n",
              "      <td>aug</td>\n",
              "      <td>sat</td>\n",
              "      <td>94.4</td>\n",
              "      <td>146.0</td>\n",
              "      <td>614.7</td>\n",
              "      <td>11.3</td>\n",
              "      <td>25.6</td>\n",
              "      <td>42</td>\n",
              "      <td>4.0</td>\n",
              "      <td>0.0</td>\n",
              "      <td>0.00</td>\n",
              "    </tr>\n",
              "    <tr>\n",
              "      <th>516</th>\n",
              "      <td>6</td>\n",
              "      <td>3</td>\n",
              "      <td>nov</td>\n",
              "      <td>tue</td>\n",
              "      <td>79.5</td>\n",
              "      <td>3.0</td>\n",
              "      <td>106.7</td>\n",
              "      <td>1.1</td>\n",
              "      <td>11.8</td>\n",
              "      <td>31</td>\n",
              "      <td>4.5</td>\n",
              "      <td>0.0</td>\n",
              "      <td>0.00</td>\n",
              "    </tr>\n",
              "  </tbody>\n",
              "</table>\n",
              "<p>517 rows × 13 columns</p>\n",
              "</div>"
            ],
            "text/plain": [
              "     X  Y month  day  FFMC    DMC     DC   ISI  temp  RH  wind  rain   area\n",
              "0    7  5   mar  fri  86.2   26.2   94.3   5.1   8.2  51   6.7   0.0   0.00\n",
              "1    7  4   oct  tue  90.6   35.4  669.1   6.7  18.0  33   0.9   0.0   0.00\n",
              "2    7  4   oct  sat  90.6   43.7  686.9   6.7  14.6  33   1.3   0.0   0.00\n",
              "3    8  6   mar  fri  91.7   33.3   77.5   9.0   8.3  97   4.0   0.2   0.00\n",
              "4    8  6   mar  sun  89.3   51.3  102.2   9.6  11.4  99   1.8   0.0   0.00\n",
              "..  .. ..   ...  ...   ...    ...    ...   ...   ...  ..   ...   ...    ...\n",
              "512  4  3   aug  sun  81.6   56.7  665.6   1.9  27.8  32   2.7   0.0   6.44\n",
              "513  2  4   aug  sun  81.6   56.7  665.6   1.9  21.9  71   5.8   0.0  54.29\n",
              "514  7  4   aug  sun  81.6   56.7  665.6   1.9  21.2  70   6.7   0.0  11.16\n",
              "515  1  4   aug  sat  94.4  146.0  614.7  11.3  25.6  42   4.0   0.0   0.00\n",
              "516  6  3   nov  tue  79.5    3.0  106.7   1.1  11.8  31   4.5   0.0   0.00\n",
              "\n",
              "[517 rows x 13 columns]"
            ]
          },
          "metadata": {
            "tags": []
          },
          "execution_count": 304
        }
      ]
    },
    {
      "cell_type": "markdown",
      "metadata": {
        "id": "hp54uH76Lqid"
      },
      "source": [
        "### Correlations\n",
        "We will now inspect the features and see if there are any we can remove. Using the correlation matrix print out the heat map of the features."
      ]
    },
    {
      "cell_type": "code",
      "metadata": {
        "id": "VpyUg7EZLv7J",
        "colab": {
          "base_uri": "https://localhost:8080/",
          "height": 303
        },
        "outputId": "ef388ac6-2d6e-4735-b0a0-a3a9f8d4701f"
      },
      "source": [
        "# TODO: Print out a heatmap of the correlation matrix for the features\n",
        "# ***Solution***\n",
        "correlation_matrix = df1.corr().round(2)\n",
        "sns.heatmap(data=correlation_matrix, annot=True)"
      ],
      "execution_count": 305,
      "outputs": [
        {
          "output_type": "execute_result",
          "data": {
            "text/plain": [
              "<matplotlib.axes._subplots.AxesSubplot at 0x7f1c5517e710>"
            ]
          },
          "metadata": {
            "tags": []
          },
          "execution_count": 305
        },
        {
          "output_type": "display_data",
          "data": {
            "image/png": "[encoded data removed]",
            "text/plain": [
              "<Figure size 432x288 with 2 Axes>"
            ]
          },
          "metadata": {
            "tags": [],
            "needs_background": "light"
          }
        }
      ]
    },
    {
      "cell_type": "markdown",
      "metadata": {
        "id": "Vm_GQ6f2MBIn"
      },
      "source": [
        "**Observed Features:** <br>\n",
        "From the heat map we can see that the highest correlated features by the numbers are clearly the Temperature, Relative Humidity, DMC. We will use these for our model, along with Month and Day."
      ]
    },
    {
      "cell_type": "code",
      "metadata": {
        "id": "eC78313MLy6R"
      },
      "source": [
        "df1 = df1[['month', 'day', 'temp', 'RH', 'DMC', 'area']]"
      ],
      "execution_count": 306,
      "outputs": []
    },
    {
      "cell_type": "code",
      "metadata": {
        "id": "gZqaTFAlBcIo"
      },
      "source": [
        "# TODO: Split data into features and labels\n",
        "# ***SOLUTION***\n",
        "Xb = df1.iloc[:, 0:5]\n",
        "yb = df1.iloc[:, 5]"
      ],
      "execution_count": 307,
      "outputs": []
    },
    {
      "cell_type": "code",
      "metadata": {
        "id": "GWqpiejX9ZXA"
      },
      "source": [
        "# One-hot encode and Standard Scale\n",
        "Xb = pd.get_dummies(Xb, columns=['month', 'day'])\n",
        "scaler = StandardScaler()\n",
        "Xb = pd.DataFrame(scaler.fit_transform(Xb))"
      ],
      "execution_count": 308,
      "outputs": []
    },
    {
      "cell_type": "markdown",
      "metadata": {
        "id": "jxSxqC24DZCQ"
      },
      "source": [
        "Let's plot some of the features vs area. How many outliers can you immediately identify?"
      ]
    },
    {
      "cell_type": "code",
      "metadata": {
        "colab": {
          "base_uri": "https://localhost:8080/",
          "height": 820
        },
        "id": "LPNBWMq-Do63",
        "outputId": "2f8ef61e-5a00-4eaf-97fd-e241f1395029"
      },
      "source": [
        "# TODO: Plot features vs area\n",
        "# ***SOLUTION***\n",
        "df1.plot.scatter(x = \"DMC\", y = \"area\")\n",
        "df1.plot.scatter(x = \"temp\", y = \"area\")\n",
        "df1.plot.scatter(x = \"RH\", y = \"area\")"
      ],
      "execution_count": 309,
      "outputs": [
        {
          "output_type": "execute_result",
          "data": {
            "text/plain": [
              "<matplotlib.axes._subplots.AxesSubplot at 0x7f1c54f2fd68>"
            ]
          },
          "metadata": {
            "tags": []
          },
          "execution_count": 309
        },
        {
          "output_type": "display_data",
          "data": {
            "image/png": "[encoded data removed]",
            "text/plain": [
              "<Figure size 432x288 with 1 Axes>"
            ]
          },
          "metadata": {
            "tags": [],
            "needs_background": "light"
          }
        },
        {
          "output_type": "display_data",
          "data": {
            "image/png": "[encoded data removed]",
            "text/plain": [
              "<Figure size 432x288 with 1 Axes>"
            ]
          },
          "metadata": {
            "tags": [],
            "needs_background": "light"
          }
        },
        {
          "output_type": "display_data",
          "data": {
            "image/png": "[encoded data removed]",
            "text/plain": [
              "<Figure size 432x288 with 1 Axes>"
            ]
          },
          "metadata": {
            "tags": [],
            "needs_background": "light"
          }
        }
      ]
    },
    {
      "cell_type": "markdown",
      "metadata": {
        "id": "o9Z7xs9WD4bk"
      },
      "source": [
        "**Report your observations:** We see that there are 2 main outliers, with area above 1000 and around 750."
      ]
    },
    {
      "cell_type": "markdown",
      "metadata": {
        "id": "2BELeJzgkdl8"
      },
      "source": [
        "## Your Turn: Perform OMP on this dataset\n",
        "Steps\n",
        "1. Split the dataset as you did before. **Use a random_state=189 for reproducability**.\n",
        "2. Fit LR model to the training data and predict on the testing data and report the MSE of the entire dataset without removing any outliers. \n",
        "3. Perform OMP on the training set and then do the same thing an perform LR on the newly outlier free dataset. (Here select the number of data points removed to be low because the number of outliers in this set does not exceed 5)"
      ]
    },
    {
      "cell_type": "code",
      "metadata": {
        "id": "qVrK_3AT97tO",
        "colab": {
          "base_uri": "https://localhost:8080/"
        },
        "outputId": "dae26159-baee-4a35-8b56-9e3cb34764d4"
      },
      "source": [
        "# TODO: split train test \n",
        "#***SOLUTION***\n",
        "X_train, X_test, y_train, y_test = train_test_split(Xb, yb, test_size = 0.2, random_state=189)\n",
        "\n",
        "# TODO: Perform Linear Regression and print the MSE\n",
        "#***SOLUTION***\n",
        "model = LinearRegression()\n",
        "model.fit(X_train, y_train)\n",
        "\n",
        "ypred = model.predict(X_test)\n",
        "MSE = mean_squared_error(ypred, y_test)\n",
        "Rsquared = r2_score(ypred, y_test)\n",
        "print(\"MSE: \", MSE)"
      ],
      "execution_count": 310,
      "outputs": [
        {
          "output_type": "stream",
          "text": [
            "MSE:  1030.0464905735284\n"
          ],
          "name": "stdout"
        }
      ]
    },
    {
      "cell_type": "code",
      "metadata": {
        "id": "JRyKusXracie"
      },
      "source": [
        "## TODO: Implement a function to delete and return your outlier free training set\n",
        "def get_new_XY(Xnew, ynew, k):\n",
        "  # Input:\n",
        "  #   Xnew: Training Data to run outlier removal\n",
        "  #   ynew: Labels of training data to run outlier detection on\n",
        "  #   k: Sparsity (How many outliers to detect) (Recall <5)\n",
        "  # Output:\n",
        "  #   X_train_new: Outlier free feature training data\n",
        "  #   y_train_new: Outlier free label training data\n",
        "  \n",
        "  #***SOLUTION***\n",
        "  indices = omp_outlier_detection(Xnew, ynew, k)\n",
        "  X_train_new = np.delete(Xnew, indices, axis=0)\n",
        "  y_train_new = np.delete(ynew, indices, axis=0)\n",
        "  return X_train_new, y_train_new"
      ],
      "execution_count": 311,
      "outputs": []
    },
    {
      "cell_type": "code",
      "metadata": {
        "id": "_v6VNvGdarGl"
      },
      "source": [
        "## TODO: Create A prediction function for the outlier free data\n",
        "def predict_new(X_train_new, y_train_new, xt, yt):\n",
        "  # Input:\n",
        "  #   X_train_new: Outlier free feature training data\n",
        "  #   y_train_new: Outlier free label training data\n",
        "  #   xt: Testing data to predict on\n",
        "  #   yt: Testing data labels to predict on\n",
        "  # Output:\n",
        "  #   MSE: Mean Squared Error on the Test Set\n",
        "  #   Rsquared : Correlation Coefficient on Test Set\n",
        "  \n",
        "  #***SOLUTION***\n",
        "  model = LinearRegression()\n",
        "  model.fit(X_train_new, y_train_new)\n",
        "\n",
        "  ypred = model.predict(xt)\n",
        "  MSE = mean_squared_error(ypred, yt)\n",
        "  Rsquared = r2_score(ypred, yt)\n",
        "  return MSE, Rsquared"
      ],
      "execution_count": 312,
      "outputs": []
    },
    {
      "cell_type": "markdown",
      "metadata": {
        "id": "yxkWjrcUKG0Z"
      },
      "source": [
        "Below is Code Given to you to see the effect of removing multiple outliers and the resultant MSE after a certain number of outliers are removed."
      ]
    },
    {
      "cell_type": "code",
      "metadata": {
        "id": "06EF5X4deKWt",
        "colab": {
          "base_uri": "https://localhost:8080/",
          "height": 328,
          "referenced_widgets": [
            "7f17fca941d3426e9f100cb41ba8b163",
            "f92e2bfb458a40cc80ffe1a9c49b2a89",
            "32e28f45d8f848a8b61a2fad86ed25cd",
            "e0cf92deb1fe4c788f4ad8011775ef10",
            "97f6fc790a254fe19128188e9e3f80a6",
            "f3fab6b4abb8461eb87e083bd3249e9b",
            "65192db9cb874439b958e7ac2b033950"
          ]
        },
        "outputId": "3b1bac83-e1f9-4088-a033-8d743e3d3c5b"
      },
      "source": [
        "mses = []\n",
        "r2 = []\n",
        "max_outlier = 100\n",
        "\n",
        "curr_X_train = X_train.to_numpy()\n",
        "curr_y_train = y_train.to_numpy()\n",
        "for k in range(0, max_outlier):\n",
        "  D = get_new_XY(curr_X_train, curr_y_train, k)\n",
        "  errors = predict_new(D[0], D[1], X_test, y_test)\n",
        "  mses.append((errors[0]))\n",
        "  r2.append(errors[1])\n",
        "ind = np.linspace(0, max_outlier-1, max_outlier)\n",
        "msesArray = np.asarray(mses)\n",
        "r2Array = np.asarray(r2)\n",
        "\n",
        "plt.figure(1)\n",
        "plt.plot(ind, msesArray)\n",
        "plt.xlabel(\"Number of Outliers Removed\")\n",
        "plt.ylabel(\"MSE Error on Prediction\")\n",
        "\n",
        "def MSEInteractive(k):\n",
        "  D = get_new_XY(curr_X_train, curr_y_train, k)\n",
        "  errors = predict_new(D[0], D[1], X_test, y_test)\n",
        "  mse = errors[0]\n",
        "  print(\"MSE: \", mse)\n",
        "\n",
        "interactiveMSE = interactive(MSEInteractive,\n",
        "                               k=generate_num_outliers())\n",
        "interactiveMSE\n"
      ],
      "execution_count": 313,
      "outputs": [
        {
          "output_type": "display_data",
          "data": {
            "application/vnd.jupyter.widget-view+json": {
              "model_id": "7f17fca941d3426e9f100cb41ba8b163",
              "version_minor": 0,
              "version_major": 2
            },
            "text/plain": [
              "interactive(children=(IntSlider(value=0, continuous_update=False, description='Sparisty k', max=50), Output())…"
            ]
          },
          "metadata": {
            "tags": []
          }
        },
        {
          "output_type": "display_data",
          "data": {
            "image/png": "[encoded data removed]",
            "text/plain": [
              "<Figure size 432x288 with 1 Axes>"
            ]
          },
          "metadata": {
            "tags": [],
            "needs_background": "light"
          }
        }
      ]
    },
    {
      "cell_type": "markdown",
      "metadata": {
        "id": "rsiwHhodll5v"
      },
      "source": [
        "**Q: Your graph should have a steep drop and then a steady incline after. What is the approximate optimal number of outliers to remove? Why does the graph form this shape?**"
      ]
    },
    {
      "cell_type": "markdown",
      "metadata": {
        "id": "mKa35mrqmrw_"
      },
      "source": [
        "A: Optimal number of outliers to remove is 5-10. Removing the first couple outliers leads to a steep drop in our MSE because we're getting rid of data that negatively impacts our predictor. However, the MSE begins to increase steadily afterwards because we start throwing away useful training points that are not outliers."
      ]
    },
    {
      "cell_type": "markdown",
      "metadata": {
        "id": "N_PXQBIk8CbN"
      },
      "source": [
        "\n",
        "\n",
        "---\n",
        "\n"
      ]
    },
    {
      "cell_type": "markdown",
      "metadata": {
        "id": "xKo-fBs57lXy"
      },
      "source": [
        "Remember that we used a random_state=189. Could our graph's nice shape be a fluke? Let's see if we can find situations in which our OMP outlier removal doesn't produce such a clean graph.\n",
        "\n",
        "First, let's print out the top 10 datapoints which OMP is identifying as the biggest outliers in the entire dataset (before the split), along with their respective areas."
      ]
    },
    {
      "cell_type": "code",
      "metadata": {
        "colab": {
          "base_uri": "https://localhost:8080/"
        },
        "id": "9s4AM-j28E-a",
        "outputId": "47db913d-ac70-47fd-f045-5abf796a03da"
      },
      "source": [
        "# TODO: Print outliers identified in OMP, along with their areas\n",
        "# ***SOLUTION***\n",
        "indices = omp_outlier_detection(Xb, yb, 10)\n",
        "print(\"The top outlier datapoints and their areas are: \\n\", yb.loc[indices])"
      ],
      "execution_count": 314,
      "outputs": [
        {
          "output_type": "stream",
          "text": [
            "The top outlier datapoints and their areas are: \n",
            " 238    1090.84\n",
            "415     746.28\n",
            "479     278.53\n",
            "237     212.88\n",
            "235     196.48\n",
            "236     200.94\n",
            "420     185.76\n",
            "377     174.63\n",
            "234     154.88\n",
            "233     105.66\n",
            "Name: area, dtype: float64\n"
          ],
          "name": "stdout"
        }
      ]
    },
    {
      "cell_type": "markdown",
      "metadata": {
        "id": "SD7w1meNFElM"
      },
      "source": [
        "**Q: Does these agree with your observations from the scatterplot visualization?**"
      ]
    },
    {
      "cell_type": "markdown",
      "metadata": {
        "id": "C12O5cOkFOcf"
      },
      "source": [
        "A: Yes, we see that the 1090 and 746 areas that we identified in the scatterplots are chosen as the biggest outliers by OMP."
      ]
    },
    {
      "cell_type": "markdown",
      "metadata": {
        "id": "QMF79fUQ8V2h"
      },
      "source": [
        "Now, let's inspect where these outliers landed once our data was split with random_state=189."
      ]
    },
    {
      "cell_type": "code",
      "metadata": {
        "colab": {
          "base_uri": "https://localhost:8080/"
        },
        "id": "kO2Wx49n8VXe",
        "outputId": "633ee1c7-9916-4038-c12d-f5449d4249c0"
      },
      "source": [
        "# TODO: Find out and print where our outliers have landed (training set or test set?)\n",
        "# Hint: you can use a try/catch block with the .loc pandas function\n",
        "\n",
        "# ***SOLUTION***\n",
        "for i in indices:\n",
        "  try:\n",
        "    a = X_train.loc[i]\n",
        "    print(\"Point #\", i, \" is in the training set.\")\n",
        "  except:\n",
        "    print(\"Point #\", i, \" is in the test set.\")"
      ],
      "execution_count": 315,
      "outputs": [
        {
          "output_type": "stream",
          "text": [
            "Point # 238  is in the training set.\n",
            "Point # 415  is in the training set.\n",
            "Point # 479  is in the training set.\n",
            "Point # 237  is in the training set.\n",
            "Point # 235  is in the test set.\n",
            "Point # 236  is in the test set.\n",
            "Point # 420  is in the training set.\n",
            "Point # 377  is in the training set.\n",
            "Point # 234  is in the training set.\n",
            "Point # 233  is in the training set.\n"
          ],
          "name": "stdout"
        }
      ]
    },
    {
      "cell_type": "markdown",
      "metadata": {
        "id": "UHvL6tdgY1KR"
      },
      "source": [
        "**Q: In the current state all, most of the top outliers are present in the training set, why might this be advantageous considering the code you have written? For example if the testing set had the top two outliers what do you think will happen?**"
      ]
    },
    {
      "cell_type": "markdown",
      "metadata": {
        "id": "_WA5E1JyY4er"
      },
      "source": [
        "A: It is evident that if all the outliers are in the training set the data is slowly being cleaned till there are no more outliers at all in the entire set. This way the graph above is formed where the more points that are removed the error does not increase after all the outliers are removed. However, if we see the top two outliers in the testing set then we observe that the MSE is always extremely high or always increasing, this occurs for two reasons: One the outliers in the test set are never removed because OMP is always performed on the training set so the MSE is always effected by those outliers, Two the more points are removed then after all the outliers are removed from the training set then more good points are removed while the test set still has outliers. This inhererntly causes error to increase as more \"outliers\" are removed."
      ]
    },
    {
      "cell_type": "markdown",
      "metadata": {
        "id": "6gfcNkgX96gf"
      },
      "source": [
        "**Try running the above cells again with different random states for the training/test split. Observe how the graph changes when the top outliers are placed in the test set and record your observations below.**"
      ]
    },
    {
      "cell_type": "markdown",
      "metadata": {
        "id": "X5KOlmEe-KSr"
      },
      "source": [
        "**Observation:** Random state 42 has the top outlier in the test set. As we see, there is no initial drop - instead, the MSE is much higher than before and continuously increasing. This is because the top outlier is not being removed from the set since it is in the test set, and throws off our accuracy by a lot."
      ]
    }
  ]
}