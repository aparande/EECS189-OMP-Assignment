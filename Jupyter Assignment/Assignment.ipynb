{
  "nbformat": 4,
  "nbformat_minor": 0,
  "metadata": {
    "colab": {
      "name": "Assignment.ipynb",
      "provenance": [],
      "collapsed_sections": []
    },
    "kernelspec": {
      "name": "python3",
      "display_name": "Python 3"
    },
    "widgets": {
      "application/vnd.jupyter.widget-state+json": {
        "749c8c99be1b47b4bff9ed4746aa38b5": {
          "model_module": "@jupyter-widgets/controls",
          "model_name": "VBoxModel",
          "state": {
            "_view_name": "VBoxView",
            "_dom_classes": [
              "widget-interact"
            ],
            "_model_name": "VBoxModel",
            "_view_module": "@jupyter-widgets/controls",
            "_model_module_version": "1.5.0",
            "_view_count": null,
            "_view_module_version": "1.5.0",
            "box_style": "",
            "layout": "IPY_MODEL_256913838da943879035f0ef0b49765c",
            "_model_module": "@jupyter-widgets/controls",
            "children": [
              "IPY_MODEL_084422ff74e24facaa842c6b10a9e1e2",
              "IPY_MODEL_943a6bf307d947ffaaffc762f76c3608"
            ]
          }
        },
        "256913838da943879035f0ef0b49765c": {
          "model_module": "@jupyter-widgets/base",
          "model_name": "LayoutModel",
          "state": {
            "_view_name": "LayoutView",
            "grid_template_rows": null,
            "right": null,
            "justify_content": null,
            "_view_module": "@jupyter-widgets/base",
            "overflow": null,
            "_model_module_version": "1.2.0",
            "_view_count": null,
            "flex_flow": null,
            "width": null,
            "min_width": null,
            "border": null,
            "align_items": null,
            "bottom": null,
            "_model_module": "@jupyter-widgets/base",
            "top": null,
            "grid_column": null,
            "overflow_y": null,
            "overflow_x": null,
            "grid_auto_flow": null,
            "grid_area": null,
            "grid_template_columns": null,
            "flex": null,
            "_model_name": "LayoutModel",
            "justify_items": null,
            "grid_row": null,
            "max_height": null,
            "align_content": null,
            "visibility": null,
            "align_self": null,
            "height": null,
            "min_height": null,
            "padding": null,
            "grid_auto_rows": null,
            "grid_gap": null,
            "max_width": null,
            "order": null,
            "_view_module_version": "1.2.0",
            "grid_template_areas": null,
            "object_position": null,
            "object_fit": null,
            "grid_auto_columns": null,
            "margin": null,
            "display": null,
            "left": null
          }
        },
        "084422ff74e24facaa842c6b10a9e1e2": {
          "model_module": "@jupyter-widgets/controls",
          "model_name": "IntSliderModel",
          "state": {
            "_view_name": "IntSliderView",
            "style": "IPY_MODEL_06e88167a4db48da8ffab37eb816ab9e",
            "_dom_classes": [],
            "description": "Sparisty k",
            "step": 1,
            "_model_name": "IntSliderModel",
            "orientation": "horizontal",
            "max": 50,
            "_view_module": "@jupyter-widgets/controls",
            "_model_module_version": "1.5.0",
            "value": 0,
            "_view_count": null,
            "disabled": false,
            "_view_module_version": "1.5.0",
            "min": 0,
            "continuous_update": false,
            "readout_format": "d",
            "description_tooltip": null,
            "readout": true,
            "_model_module": "@jupyter-widgets/controls",
            "layout": "IPY_MODEL_8c31cd5b4b42435a8addcecc18aaecb2"
          }
        },
        "943a6bf307d947ffaaffc762f76c3608": {
          "model_module": "@jupyter-widgets/output",
          "model_name": "OutputModel",
          "state": {
            "_view_name": "OutputView",
            "msg_id": "",
            "_dom_classes": [],
            "_model_name": "OutputModel",
            "outputs": [
              {
                "output_type": "display_data",
                "metadata": {
                  "tags": [],
                  "needs_background": "light"
                },
                "image/png": "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\n",
                "text/plain": "<Figure size 432x288 with 1 Axes>"
              },
              {
                "output_type": "display_data",
                "metadata": {
                  "tags": [],
                  "needs_background": "light"
                },
                "image/png": "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\n",
                "text/plain": "<Figure size 432x288 with 1 Axes>"
              }
            ],
            "_view_module": "@jupyter-widgets/output",
            "_model_module_version": "1.0.0",
            "_view_count": null,
            "_view_module_version": "1.0.0",
            "layout": "IPY_MODEL_ce7418cb42c84af6a549ed0bc7cc5924",
            "_model_module": "@jupyter-widgets/output"
          }
        },
        "06e88167a4db48da8ffab37eb816ab9e": {
          "model_module": "@jupyter-widgets/controls",
          "model_name": "SliderStyleModel",
          "state": {
            "_view_name": "StyleView",
            "handle_color": null,
            "_model_name": "SliderStyleModel",
            "description_width": "",
            "_view_module": "@jupyter-widgets/base",
            "_model_module_version": "1.5.0",
            "_view_count": null,
            "_view_module_version": "1.2.0",
            "_model_module": "@jupyter-widgets/controls"
          }
        },
        "8c31cd5b4b42435a8addcecc18aaecb2": {
          "model_module": "@jupyter-widgets/base",
          "model_name": "LayoutModel",
          "state": {
            "_view_name": "LayoutView",
            "grid_template_rows": null,
            "right": null,
            "justify_content": null,
            "_view_module": "@jupyter-widgets/base",
            "overflow": null,
            "_model_module_version": "1.2.0",
            "_view_count": null,
            "flex_flow": null,
            "width": null,
            "min_width": null,
            "border": null,
            "align_items": null,
            "bottom": null,
            "_model_module": "@jupyter-widgets/base",
            "top": null,
            "grid_column": null,
            "overflow_y": null,
            "overflow_x": null,
            "grid_auto_flow": null,
            "grid_area": null,
            "grid_template_columns": null,
            "flex": null,
            "_model_name": "LayoutModel",
            "justify_items": null,
            "grid_row": null,
            "max_height": null,
            "align_content": null,
            "visibility": null,
            "align_self": null,
            "height": null,
            "min_height": null,
            "padding": null,
            "grid_auto_rows": null,
            "grid_gap": null,
            "max_width": null,
            "order": null,
            "_view_module_version": "1.2.0",
            "grid_template_areas": null,
            "object_position": null,
            "object_fit": null,
            "grid_auto_columns": null,
            "margin": null,
            "display": null,
            "left": null
          }
        },
        "ce7418cb42c84af6a549ed0bc7cc5924": {
          "model_module": "@jupyter-widgets/base",
          "model_name": "LayoutModel",
          "state": {
            "_view_name": "LayoutView",
            "grid_template_rows": null,
            "right": null,
            "justify_content": null,
            "_view_module": "@jupyter-widgets/base",
            "overflow": null,
            "_model_module_version": "1.2.0",
            "_view_count": null,
            "flex_flow": null,
            "width": null,
            "min_width": null,
            "border": null,
            "align_items": null,
            "bottom": null,
            "_model_module": "@jupyter-widgets/base",
            "top": null,
            "grid_column": null,
            "overflow_y": null,
            "overflow_x": null,
            "grid_auto_flow": null,
            "grid_area": null,
            "grid_template_columns": null,
            "flex": null,
            "_model_name": "LayoutModel",
            "justify_items": null,
            "grid_row": null,
            "max_height": null,
            "align_content": null,
            "visibility": null,
            "align_self": null,
            "height": null,
            "min_height": null,
            "padding": null,
            "grid_auto_rows": null,
            "grid_gap": null,
            "max_width": null,
            "order": null,
            "_view_module_version": "1.2.0",
            "grid_template_areas": null,
            "object_position": null,
            "object_fit": null,
            "grid_auto_columns": null,
            "margin": null,
            "display": null,
            "left": null
          }
        },
        "6909cd2447ab4d3da28d2525a80c0949": {
          "model_module": "@jupyter-widgets/controls",
          "model_name": "VBoxModel",
          "state": {
            "_view_name": "VBoxView",
            "_dom_classes": [
              "widget-interact"
            ],
            "_model_name": "VBoxModel",
            "_view_module": "@jupyter-widgets/controls",
            "_model_module_version": "1.5.0",
            "_view_count": null,
            "_view_module_version": "1.5.0",
            "box_style": "",
            "layout": "IPY_MODEL_e467b241ec4741fcb0f004b8f41d0610",
            "_model_module": "@jupyter-widgets/controls",
            "children": [
              "IPY_MODEL_1eead67da2ed4fb5b4aa5daff4b88648",
              "IPY_MODEL_4b4743d502684701a74aaaafe2543c7e"
            ]
          }
        },
        "e467b241ec4741fcb0f004b8f41d0610": {
          "model_module": "@jupyter-widgets/base",
          "model_name": "LayoutModel",
          "state": {
            "_view_name": "LayoutView",
            "grid_template_rows": null,
            "right": null,
            "justify_content": null,
            "_view_module": "@jupyter-widgets/base",
            "overflow": null,
            "_model_module_version": "1.2.0",
            "_view_count": null,
            "flex_flow": null,
            "width": null,
            "min_width": null,
            "border": null,
            "align_items": null,
            "bottom": null,
            "_model_module": "@jupyter-widgets/base",
            "top": null,
            "grid_column": null,
            "overflow_y": null,
            "overflow_x": null,
            "grid_auto_flow": null,
            "grid_area": null,
            "grid_template_columns": null,
            "flex": null,
            "_model_name": "LayoutModel",
            "justify_items": null,
            "grid_row": null,
            "max_height": null,
            "align_content": null,
            "visibility": null,
            "align_self": null,
            "height": null,
            "min_height": null,
            "padding": null,
            "grid_auto_rows": null,
            "grid_gap": null,
            "max_width": null,
            "order": null,
            "_view_module_version": "1.2.0",
            "grid_template_areas": null,
            "object_position": null,
            "object_fit": null,
            "grid_auto_columns": null,
            "margin": null,
            "display": null,
            "left": null
          }
        },
        "1eead67da2ed4fb5b4aa5daff4b88648": {
          "model_module": "@jupyter-widgets/controls",
          "model_name": "IntSliderModel",
          "state": {
            "_view_name": "IntSliderView",
            "style": "IPY_MODEL_e942d76424364ed1a422b827d6f8ea22",
            "_dom_classes": [],
            "description": "Sparisty k",
            "step": 1,
            "_model_name": "IntSliderModel",
            "orientation": "horizontal",
            "max": 50,
            "_view_module": "@jupyter-widgets/controls",
            "_model_module_version": "1.5.0",
            "value": 0,
            "_view_count": null,
            "disabled": false,
            "_view_module_version": "1.5.0",
            "min": 0,
            "continuous_update": false,
            "readout_format": "d",
            "description_tooltip": null,
            "readout": true,
            "_model_module": "@jupyter-widgets/controls",
            "layout": "IPY_MODEL_0f770eb1616c4d9ca326c2d853b31a79"
          }
        },
        "4b4743d502684701a74aaaafe2543c7e": {
          "model_module": "@jupyter-widgets/output",
          "model_name": "OutputModel",
          "state": {
            "_view_name": "OutputView",
            "msg_id": "",
            "_dom_classes": [],
            "_model_name": "OutputModel",
            "outputs": [
              {
                "output_type": "stream",
                "metadata": {
                  "tags": []
                },
                "text": "MSE:  1107.493368629557\n",
                "stream": "stdout"
              }
            ],
            "_view_module": "@jupyter-widgets/output",
            "_model_module_version": "1.0.0",
            "_view_count": null,
            "_view_module_version": "1.0.0",
            "layout": "IPY_MODEL_0b32262e4a4d4056aa7de63de46d31f5",
            "_model_module": "@jupyter-widgets/output"
          }
        },
        "e942d76424364ed1a422b827d6f8ea22": {
          "model_module": "@jupyter-widgets/controls",
          "model_name": "SliderStyleModel",
          "state": {
            "_view_name": "StyleView",
            "handle_color": null,
            "_model_name": "SliderStyleModel",
            "description_width": "",
            "_view_module": "@jupyter-widgets/base",
            "_model_module_version": "1.5.0",
            "_view_count": null,
            "_view_module_version": "1.2.0",
            "_model_module": "@jupyter-widgets/controls"
          }
        },
        "0f770eb1616c4d9ca326c2d853b31a79": {
          "model_module": "@jupyter-widgets/base",
          "model_name": "LayoutModel",
          "state": {
            "_view_name": "LayoutView",
            "grid_template_rows": null,
            "right": null,
            "justify_content": null,
            "_view_module": "@jupyter-widgets/base",
            "overflow": null,
            "_model_module_version": "1.2.0",
            "_view_count": null,
            "flex_flow": null,
            "width": null,
            "min_width": null,
            "border": null,
            "align_items": null,
            "bottom": null,
            "_model_module": "@jupyter-widgets/base",
            "top": null,
            "grid_column": null,
            "overflow_y": null,
            "overflow_x": null,
            "grid_auto_flow": null,
            "grid_area": null,
            "grid_template_columns": null,
            "flex": null,
            "_model_name": "LayoutModel",
            "justify_items": null,
            "grid_row": null,
            "max_height": null,
            "align_content": null,
            "visibility": null,
            "align_self": null,
            "height": null,
            "min_height": null,
            "padding": null,
            "grid_auto_rows": null,
            "grid_gap": null,
            "max_width": null,
            "order": null,
            "_view_module_version": "1.2.0",
            "grid_template_areas": null,
            "object_position": null,
            "object_fit": null,
            "grid_auto_columns": null,
            "margin": null,
            "display": null,
            "left": null
          }
        },
        "0b32262e4a4d4056aa7de63de46d31f5": {
          "model_module": "@jupyter-widgets/base",
          "model_name": "LayoutModel",
          "state": {
            "_view_name": "LayoutView",
            "grid_template_rows": null,
            "right": null,
            "justify_content": null,
            "_view_module": "@jupyter-widgets/base",
            "overflow": null,
            "_model_module_version": "1.2.0",
            "_view_count": null,
            "flex_flow": null,
            "width": null,
            "min_width": null,
            "border": null,
            "align_items": null,
            "bottom": null,
            "_model_module": "@jupyter-widgets/base",
            "top": null,
            "grid_column": null,
            "overflow_y": null,
            "overflow_x": null,
            "grid_auto_flow": null,
            "grid_area": null,
            "grid_template_columns": null,
            "flex": null,
            "_model_name": "LayoutModel",
            "justify_items": null,
            "grid_row": null,
            "max_height": null,
            "align_content": null,
            "visibility": null,
            "align_self": null,
            "height": null,
            "min_height": null,
            "padding": null,
            "grid_auto_rows": null,
            "grid_gap": null,
            "max_width": null,
            "order": null,
            "_view_module_version": "1.2.0",
            "grid_template_areas": null,
            "object_position": null,
            "object_fit": null,
            "grid_auto_columns": null,
            "margin": null,
            "display": null,
            "left": null
          }
        }
      }
    }
  },
  "cells": [
    {
      "cell_type": "code",
      "metadata": {
        "id": "7BDt0Ih0zmTV"
      },
      "source": [
        "import numpy as np \n",
        "import pandas as pd\n",
        "import sklearn \n",
        "import matplotlib.pyplot as plt\n",
        "from numpy import genfromtxt\n",
        "from sklearn.preprocessing import LabelEncoder, OneHotEncoder, FunctionTransformer\n",
        "from sklearn.model_selection import train_test_split\n",
        "from sklearn.preprocessing import StandardScaler\n",
        "from sklearn.linear_model import LinearRegression\n",
        "from sklearn.metrics import mean_squared_error, r2_score\n",
        "import ipywidgets as widgets\n",
        "from ipywidgets import interactive"
      ],
      "execution_count": null,
      "outputs": []
    },
    {
      "cell_type": "markdown",
      "metadata": {
        "id": "bOEFOEyDB4cG"
      },
      "source": [
        "# Orthogonal Matching Pursuit for Outlier Removal on a 1D Data Set\n",
        "\n",
        "  The first portion of this assignemnts introduces a basic example of using OMP for outlier removal using a simple linear data set. Using the provided functions, you will visualize a dataset with outliers and answer the following questions. The second task is to code the OMP Greedy Algorithm from scratch using only numpy functions and native python functions. This will then be used for the rest of the assignment so be sure that your algorithm works for the dummy dataset.\n",
        "  \n",
        "Recall that the pseudocode for OMP is provided for you in the note/lecture slides as well as the mathematical intuition behind the algorithm. Your goal here is to implement this algorithm on a dummy dataset for easy visualization and testing, and then to a real multidimensional data set. "
      ]
    },
    {
      "cell_type": "markdown",
      "metadata": {
        "id": "ELkOf6AfaX8D"
      },
      "source": [
        "# Outlier Detection on Dummy Data"
      ]
    },
    {
      "cell_type": "code",
      "metadata": {
        "id": "BXATvsgeJX-E"
      },
      "source": [
        "# Provided function for generating a dummy set \n",
        "def generate_data(n, d, num_outliers): # Code from HW2 Prob 5 OMP Outlier Removal for CS 189\n",
        "    \"\"\"\n",
        "    Generates the data for our problem.\n",
        "    \n",
        "    args:\n",
        "      n: number of samples\n",
        "      d: dimension of samples\n",
        "      num_outliers: how many outliers are in the noisy observations;\n",
        "        we model outliers by adding large Gaussian noise\n",
        "                      \n",
        "    returns:\n",
        "      data: the nxd data matrix X\n",
        "      w_star: the underlying dx1 matrix W\n",
        "      observations: nx1 vector of noisy observations with outliers\n",
        "      \n",
        "    \"\"\"\n",
        "    \n",
        "    w_star = np.random.uniform(2.0,20.0,(d,1))\n",
        "    data = np.random.uniform(0.0,10.0,(n,d))\n",
        "    y_true = np.dot(data,w_star)\n",
        "    ind = np.random.choice(np.arange(n), num_outliers, False)\n",
        "    vec = 0.1*np.ones((n,1))\n",
        "    for a in ind:\n",
        "        vec[a] = 100.000\n",
        "    observations = np.random.multivariate_normal(\n",
        "                        np.ndarray.flatten(y_true), np.diagflat(vec))\n",
        "    for a in ind:\n",
        "        observations[a] += 40.000\n",
        "    return data, w_star, observations\n"
      ],
      "execution_count": null,
      "outputs": []
    },
    {
      "cell_type": "markdown",
      "metadata": {
        "id": "XrFk064jD3wJ"
      },
      "source": [
        "## Visualize dummy data\n",
        "Using the function above that is taken from CS189 HW2 Q5: \n",
        "1. Generate a dataset of 50 points that is one dimensional so that you can visualize the graph. Then you can choose the inital number of outliers to anything between 1-20. \n",
        "2. Then using the sklearn library imported above split the data into a 80 percent size training set and a 20 percent size testing set. The students may choose whether to use the built in sklearn function or select the data themselves. \n",
        "3. Visualize the scatter plot of the training data\n",
        "4. Train a Linear Regression model on the training data and plot the learned function."
      ]
    },
    {
      "cell_type": "code",
      "metadata": {
        "colab": {
          "base_uri": "https://localhost:8080/",
          "height": 282
        },
        "id": "eL_OEcmZKOcl",
        "outputId": "02f56e59-66f8-4210-a3d7-0199c3eefcb5"
      },
      "source": [
        "# TODO:\n",
        "n = 50\n",
        "d = 1\n",
        "num_outliers = 10\n",
        "X, w_star, y = generate_data(n,d,num_outliers) \n",
        "X_train, X_test, y_train, y_test = train_test_split(X, y, test_size = 0.2)\n",
        "plt.scatter(X_train, y_train)\n",
        "\n",
        "model = LinearRegression()\n",
        "model.fit(X_train, y_train)\n",
        "y_pred = model.predict(X_train)\n",
        "plt.plot(X_train, y_pred, color='orange')"
      ],
      "execution_count": null,
      "outputs": [
        {
          "output_type": "execute_result",
          "data": {
            "text/plain": [
              "[<matplotlib.lines.Line2D at 0x7f0bbd154668>]"
            ]
          },
          "metadata": {
            "tags": []
          },
          "execution_count": 4
        },
        {
          "output_type": "display_data",
          "data": {
            "image/png": "[encoded data removed]",
            "text/plain": [
              "<Figure size 432x288 with 1 Axes>"
            ]
          },
          "metadata": {
            "tags": [],
            "needs_background": "light"
          }
        }
      ]
    },
    {
      "cell_type": "markdown",
      "metadata": {
        "id": "POyM45phE4JP"
      },
      "source": [
        "## Implementing OMP Algorithm\n",
        "In your plot, you should see that your learned function doesn't fit your true linear function exactly - it is being skewed by the outliers. In the lecture and note, we learned how OMP can be used for outlier detection. To help find a better regression line, we will utilize OMP on the dummy dataset.\n",
        "\n",
        "**Implement the OMP algorithm below.** The inputs and outputs have already been defined for you so all you have to code is the algorithm itself. For this part, **DO NOT USE: sklearn's OMP algorithm**. Only use numpy and native python functions to code the entirety of the algorithm. "
      ]
    },
    {
      "cell_type": "code",
      "metadata": {
        "id": "pkNCwuBHCg0b"
      },
      "source": [
        "def omp_outlier_detection(X, y, k, threshold=0):\n",
        "  # Input:\n",
        "  #   X: Features of data to run outlier detection on\n",
        "  #   y: Labels of data to run outlier detection on\n",
        "  #   k: Sparsity (How many outliers to detect)\n",
        "  # Output:\n",
        "  #   F: Array of indices of outliers\n",
        "\n",
        "  # TODO: Implement OMP\n",
        "  r = y - X@np.linalg.inv(X.T@X)@X.T@y\n",
        "  j = 1\n",
        "  A = X\n",
        "  F = []\n",
        "\n",
        "  while j <= k and np.linalg.norm(r) >= threshold:\n",
        "    i = np.argmax(abs(r))\n",
        "    F.append(i)\n",
        "    e_i = np.zeros(A.shape[0])\n",
        "    e_i[i] = 1\n",
        "    e_i = e_i.reshape((e_i.shape[0], 1))\n",
        "    A = np.hstack([A, e_i])\n",
        "    x = np.linalg.pinv(A.T@A)@A.T@y\n",
        "    r = y_train - A@x\n",
        "    j = j + 1\n",
        "\n",
        "  return F"
      ],
      "execution_count": null,
      "outputs": []
    },
    {
      "cell_type": "markdown",
      "metadata": {
        "id": "FCBaKEJKFbXs"
      },
      "source": [
        "Below we have provided the necessary code to interactively plot your data and show the outlier removal process as the sparisty value or k is changed in the process. The graphs that are produced will have their associative questions. "
      ]
    },
    {
      "cell_type": "code",
      "metadata": {
        "id": "T88QKAv8FhGG",
        "colab": {
          "base_uri": "https://localhost:8080/",
          "height": 605,
          "referenced_widgets": [
            "749c8c99be1b47b4bff9ed4746aa38b5",
            "256913838da943879035f0ef0b49765c",
            "084422ff74e24facaa842c6b10a9e1e2",
            "943a6bf307d947ffaaffc762f76c3608",
            "06e88167a4db48da8ffab37eb816ab9e",
            "8c31cd5b4b42435a8addcecc18aaecb2",
            "ce7418cb42c84af6a549ed0bc7cc5924"
          ]
        },
        "outputId": "c4ce31f4-0cb9-4f3d-9562-1466c8fec2a1"
      },
      "source": [
        "def generate_num_outliers():\n",
        "    return widgets.IntSlider(\n",
        "        value=0,\n",
        "        min=0,\n",
        "        max=50,\n",
        "        step=1,\n",
        "        description='Sparisty k',\n",
        "        continuous_update=False)\n",
        "\n",
        "def visualize_OMP(k):\n",
        "  F = omp_outlier_detection(X_train, y_train, k)\n",
        "  outlierArray = X_train[F]\n",
        "  outlierValues = y_train[F]\n",
        "  plt.figure(1)\n",
        "  data1 = plt.scatter(X_train, y_train, color = 'blue')\n",
        "  data2 = plt.scatter(outlierArray, outlierValues, color = 'red')\n",
        "  plt.legend((data1, data2), ('True Function', 'Outliers'))\n",
        "  plt.xlabel(\"X Data\")\n",
        "  plt.ylabel(\"Y Data\")\n",
        "  plt.title(\"Graph before OMP\")\n",
        "\n",
        "  model = LinearRegression()\n",
        "  model.fit(X_train, y_train)\n",
        "  y_pred = model.predict(X_train)\n",
        "  plt.plot(X_train, y_pred, color='orange')\n",
        "\n",
        "  ## Second Plot without the outliers showing\n",
        "  plt.figure(2)\n",
        "  removedX = np.delete(X_train, F).reshape(-1, 1)\n",
        "  removedY = np.delete(y_train, F)\n",
        "  data3 = plt.scatter(removedX, removedY, color = 'green')\n",
        "\n",
        "  omp_model = LinearRegression()\n",
        "  omp_model.fit(removedX, removedY)\n",
        "  y_pred = omp_model.predict(removedX)\n",
        "  plt.plot(removedX, y_pred, color='orange')\n",
        "\n",
        "  plt.title(\"Graph after OMP\")\n",
        "  plt.xlabel(\"X Data\")\n",
        "  plt.ylabel(\"Y Data\")\n",
        "  #plt.legend((data3), ('Resultant Function'))\n",
        "\n",
        "interactive_plot = interactive(visualize_OMP,\n",
        "                               k=generate_num_outliers())\n",
        "interactive_plot\n"
      ],
      "execution_count": null,
      "outputs": [
        {
          "output_type": "display_data",
          "data": {
            "application/vnd.jupyter.widget-view+json": {
              "model_id": "749c8c99be1b47b4bff9ed4746aa38b5",
              "version_minor": 0,
              "version_major": 2
            },
            "text/plain": [
              "interactive(children=(IntSlider(value=0, continuous_update=False, description='Sparisty k', max=50), Output())…"
            ]
          },
          "metadata": {
            "tags": []
          }
        }
      ]
    },
    {
      "cell_type": "markdown",
      "metadata": {
        "id": "lReIObeXFslF"
      },
      "source": [
        "From the Graphs Above answer the following question: \n",
        "1. What occurs when the number of k outliers are removed? What happens if this is too high or too low in comparison to the number of actual outliers present? <br>\n",
        "\n",
        "\n",
        "---\n",
        "\n",
        "\n",
        "ANSWER: It is clear that as you increase k the number of selected points that are removed increases by nature of the OMP algorithm however since there is no implemeneted threshold there is a fault where if k is too high you start to delete non-outlier points and some of the actual well fitted data, while if k is too low then there are still outliers present that affect the predicted fit line of the data. "
      ]
    },
    {
      "cell_type": "markdown",
      "metadata": {
        "id": "lD2vi4kbaRE6"
      },
      "source": [
        "# Outlier Detection on the Forest Fires Dataset\n",
        "\n",
        "Now we will attempt to use OMP outlier detection on a real dataset; we will be working with Forest Fire Dataset sourced from UCI's machine learning data sets. The nature of this dataset is as follows:\n",
        "\n",
        ">There are 517 different data points in this data set that contribute to our X. Each of these datapoints contain 13 features or attributes: The x,y position of the fire in the park, month, day, FFMC, DMC, DC, ISI, temperature, Relative Humidity, Wind, Rain, and our output parameter as the area burned by the fire.\n",
        "\n",
        "We have imported and visualized the dataset below for you using the pandas dataframe and then also preprocessed the data in the following way.\n",
        "# Preprocessing\n",
        "1. Cut out the X, Y position of the fire attributes\n",
        "2. The labels are skewed towards a burned area of 0, so we took the log transform of our numerical data.\n",
        "3. Label and One-hot Encoded the Month and Day of the fire to reduce the number of tasks for you."
      ]
    },
    {
      "cell_type": "code",
      "metadata": {
        "id": "ghc5zmtA1Zci",
        "colab": {
          "base_uri": "https://localhost:8080/",
          "height": 415
        },
        "outputId": "14e9858e-11f7-4ad4-da9d-9dc5796a067c"
      },
      "source": [
        "url = 'https://raw.githubusercontent.com/aparande/EECS189-OMP-Assignment/main/Jupyter%20Assignment/forestfires.csv?token=ACTEYP6ONZJ5E26S3PZYJIK7ZFYMM'\n",
        "df1 = pd.read_csv(url)\n",
        "df1"
      ],
      "execution_count": null,
      "outputs": [
        {
          "output_type": "execute_result",
          "data": {
            "text/html": [
              "<div>\n",
              "<style scoped>\n",
              "    .dataframe tbody tr th:only-of-type {\n",
              "        vertical-align: middle;\n",
              "    }\n",
              "\n",
              "    .dataframe tbody tr th {\n",
              "        vertical-align: top;\n",
              "    }\n",
              "\n",
              "    .dataframe thead th {\n",
              "        text-align: right;\n",
              "    }\n",
              "</style>\n",
              "<table border=\"1\" class=\"dataframe\">\n",
              "  <thead>\n",
              "    <tr style=\"text-align: right;\">\n",
              "      <th></th>\n",
              "      <th>X</th>\n",
              "      <th>Y</th>\n",
              "      <th>month</th>\n",
              "      <th>day</th>\n",
              "      <th>FFMC</th>\n",
              "      <th>DMC</th>\n",
              "      <th>DC</th>\n",
              "      <th>ISI</th>\n",
              "      <th>temp</th>\n",
              "      <th>RH</th>\n",
              "      <th>wind</th>\n",
              "      <th>rain</th>\n",
              "      <th>area</th>\n",
              "    </tr>\n",
              "  </thead>\n",
              "  <tbody>\n",
              "    <tr>\n",
              "      <th>0</th>\n",
              "      <td>7</td>\n",
              "      <td>5</td>\n",
              "      <td>mar</td>\n",
              "      <td>fri</td>\n",
              "      <td>86.2</td>\n",
              "      <td>26.2</td>\n",
              "      <td>94.3</td>\n",
              "      <td>5.1</td>\n",
              "      <td>8.2</td>\n",
              "      <td>51</td>\n",
              "      <td>6.7</td>\n",
              "      <td>0.0</td>\n",
              "      <td>0.00</td>\n",
              "    </tr>\n",
              "    <tr>\n",
              "      <th>1</th>\n",
              "      <td>7</td>\n",
              "      <td>4</td>\n",
              "      <td>oct</td>\n",
              "      <td>tue</td>\n",
              "      <td>90.6</td>\n",
              "      <td>35.4</td>\n",
              "      <td>669.1</td>\n",
              "      <td>6.7</td>\n",
              "      <td>18.0</td>\n",
              "      <td>33</td>\n",
              "      <td>0.9</td>\n",
              "      <td>0.0</td>\n",
              "      <td>0.00</td>\n",
              "    </tr>\n",
              "    <tr>\n",
              "      <th>2</th>\n",
              "      <td>7</td>\n",
              "      <td>4</td>\n",
              "      <td>oct</td>\n",
              "      <td>sat</td>\n",
              "      <td>90.6</td>\n",
              "      <td>43.7</td>\n",
              "      <td>686.9</td>\n",
              "      <td>6.7</td>\n",
              "      <td>14.6</td>\n",
              "      <td>33</td>\n",
              "      <td>1.3</td>\n",
              "      <td>0.0</td>\n",
              "      <td>0.00</td>\n",
              "    </tr>\n",
              "    <tr>\n",
              "      <th>3</th>\n",
              "      <td>8</td>\n",
              "      <td>6</td>\n",
              "      <td>mar</td>\n",
              "      <td>fri</td>\n",
              "      <td>91.7</td>\n",
              "      <td>33.3</td>\n",
              "      <td>77.5</td>\n",
              "      <td>9.0</td>\n",
              "      <td>8.3</td>\n",
              "      <td>97</td>\n",
              "      <td>4.0</td>\n",
              "      <td>0.2</td>\n",
              "      <td>0.00</td>\n",
              "    </tr>\n",
              "    <tr>\n",
              "      <th>4</th>\n",
              "      <td>8</td>\n",
              "      <td>6</td>\n",
              "      <td>mar</td>\n",
              "      <td>sun</td>\n",
              "      <td>89.3</td>\n",
              "      <td>51.3</td>\n",
              "      <td>102.2</td>\n",
              "      <td>9.6</td>\n",
              "      <td>11.4</td>\n",
              "      <td>99</td>\n",
              "      <td>1.8</td>\n",
              "      <td>0.0</td>\n",
              "      <td>0.00</td>\n",
              "    </tr>\n",
              "    <tr>\n",
              "      <th>...</th>\n",
              "      <td>...</td>\n",
              "      <td>...</td>\n",
              "      <td>...</td>\n",
              "      <td>...</td>\n",
              "      <td>...</td>\n",
              "      <td>...</td>\n",
              "      <td>...</td>\n",
              "      <td>...</td>\n",
              "      <td>...</td>\n",
              "      <td>...</td>\n",
              "      <td>...</td>\n",
              "      <td>...</td>\n",
              "      <td>...</td>\n",
              "    </tr>\n",
              "    <tr>\n",
              "      <th>512</th>\n",
              "      <td>4</td>\n",
              "      <td>3</td>\n",
              "      <td>aug</td>\n",
              "      <td>sun</td>\n",
              "      <td>81.6</td>\n",
              "      <td>56.7</td>\n",
              "      <td>665.6</td>\n",
              "      <td>1.9</td>\n",
              "      <td>27.8</td>\n",
              "      <td>32</td>\n",
              "      <td>2.7</td>\n",
              "      <td>0.0</td>\n",
              "      <td>6.44</td>\n",
              "    </tr>\n",
              "    <tr>\n",
              "      <th>513</th>\n",
              "      <td>2</td>\n",
              "      <td>4</td>\n",
              "      <td>aug</td>\n",
              "      <td>sun</td>\n",
              "      <td>81.6</td>\n",
              "      <td>56.7</td>\n",
              "      <td>665.6</td>\n",
              "      <td>1.9</td>\n",
              "      <td>21.9</td>\n",
              "      <td>71</td>\n",
              "      <td>5.8</td>\n",
              "      <td>0.0</td>\n",
              "      <td>54.29</td>\n",
              "    </tr>\n",
              "    <tr>\n",
              "      <th>514</th>\n",
              "      <td>7</td>\n",
              "      <td>4</td>\n",
              "      <td>aug</td>\n",
              "      <td>sun</td>\n",
              "      <td>81.6</td>\n",
              "      <td>56.7</td>\n",
              "      <td>665.6</td>\n",
              "      <td>1.9</td>\n",
              "      <td>21.2</td>\n",
              "      <td>70</td>\n",
              "      <td>6.7</td>\n",
              "      <td>0.0</td>\n",
              "      <td>11.16</td>\n",
              "    </tr>\n",
              "    <tr>\n",
              "      <th>515</th>\n",
              "      <td>1</td>\n",
              "      <td>4</td>\n",
              "      <td>aug</td>\n",
              "      <td>sat</td>\n",
              "      <td>94.4</td>\n",
              "      <td>146.0</td>\n",
              "      <td>614.7</td>\n",
              "      <td>11.3</td>\n",
              "      <td>25.6</td>\n",
              "      <td>42</td>\n",
              "      <td>4.0</td>\n",
              "      <td>0.0</td>\n",
              "      <td>0.00</td>\n",
              "    </tr>\n",
              "    <tr>\n",
              "      <th>516</th>\n",
              "      <td>6</td>\n",
              "      <td>3</td>\n",
              "      <td>nov</td>\n",
              "      <td>tue</td>\n",
              "      <td>79.5</td>\n",
              "      <td>3.0</td>\n",
              "      <td>106.7</td>\n",
              "      <td>1.1</td>\n",
              "      <td>11.8</td>\n",
              "      <td>31</td>\n",
              "      <td>4.5</td>\n",
              "      <td>0.0</td>\n",
              "      <td>0.00</td>\n",
              "    </tr>\n",
              "  </tbody>\n",
              "</table>\n",
              "<p>517 rows × 13 columns</p>\n",
              "</div>"
            ],
            "text/plain": [
              "     X  Y month  day  FFMC    DMC     DC   ISI  temp  RH  wind  rain   area\n",
              "0    7  5   mar  fri  86.2   26.2   94.3   5.1   8.2  51   6.7   0.0   0.00\n",
              "1    7  4   oct  tue  90.6   35.4  669.1   6.7  18.0  33   0.9   0.0   0.00\n",
              "2    7  4   oct  sat  90.6   43.7  686.9   6.7  14.6  33   1.3   0.0   0.00\n",
              "3    8  6   mar  fri  91.7   33.3   77.5   9.0   8.3  97   4.0   0.2   0.00\n",
              "4    8  6   mar  sun  89.3   51.3  102.2   9.6  11.4  99   1.8   0.0   0.00\n",
              "..  .. ..   ...  ...   ...    ...    ...   ...   ...  ..   ...   ...    ...\n",
              "512  4  3   aug  sun  81.6   56.7  665.6   1.9  27.8  32   2.7   0.0   6.44\n",
              "513  2  4   aug  sun  81.6   56.7  665.6   1.9  21.9  71   5.8   0.0  54.29\n",
              "514  7  4   aug  sun  81.6   56.7  665.6   1.9  21.2  70   6.7   0.0  11.16\n",
              "515  1  4   aug  sat  94.4  146.0  614.7  11.3  25.6  42   4.0   0.0   0.00\n",
              "516  6  3   nov  tue  79.5    3.0  106.7   1.1  11.8  31   4.5   0.0   0.00\n",
              "\n",
              "[517 rows x 13 columns]"
            ]
          },
          "metadata": {
            "tags": []
          },
          "execution_count": 7
        }
      ]
    },
    {
      "cell_type": "code",
      "metadata": {
        "id": "gZqaTFAlBcIo",
        "colab": {
          "base_uri": "https://localhost:8080/",
          "height": 415
        },
        "outputId": "f65cedc9-1098-4115-8b88-7d29fd66e5c5"
      },
      "source": [
        "# Split data\n",
        "from sklearn.compose import ColumnTransformer\n",
        "\n",
        "X = df1.iloc[:, 2:12]\n",
        "y = df1.iloc[:, 12]\n",
        "\n",
        "# Log transform on numerical columns\n",
        "transformer = ColumnTransformer([(\"log1p\", FunctionTransformer(np.log1p, validate=False), slice(2, 10))], remainder='passthrough')\n",
        "X = transformer.fit_transform(X)\n",
        "columns = [\"FFMC\", \"DMC\", \"DC\", \"ISI\", \"temp\", \"RH\", \"wind\", \"rain\", \"month\", \"day\"]\n",
        "\n",
        "X = pd.DataFrame(X, columns=columns)\n",
        "X"
      ],
      "execution_count": null,
      "outputs": [
        {
          "output_type": "execute_result",
          "data": {
            "text/html": [
              "<div>\n",
              "<style scoped>\n",
              "    .dataframe tbody tr th:only-of-type {\n",
              "        vertical-align: middle;\n",
              "    }\n",
              "\n",
              "    .dataframe tbody tr th {\n",
              "        vertical-align: top;\n",
              "    }\n",
              "\n",
              "    .dataframe thead th {\n",
              "        text-align: right;\n",
              "    }\n",
              "</style>\n",
              "<table border=\"1\" class=\"dataframe\">\n",
              "  <thead>\n",
              "    <tr style=\"text-align: right;\">\n",
              "      <th></th>\n",
              "      <th>FFMC</th>\n",
              "      <th>DMC</th>\n",
              "      <th>DC</th>\n",
              "      <th>ISI</th>\n",
              "      <th>temp</th>\n",
              "      <th>RH</th>\n",
              "      <th>wind</th>\n",
              "      <th>rain</th>\n",
              "      <th>month</th>\n",
              "      <th>day</th>\n",
              "    </tr>\n",
              "  </thead>\n",
              "  <tbody>\n",
              "    <tr>\n",
              "      <th>0</th>\n",
              "      <td>4.4682</td>\n",
              "      <td>3.30322</td>\n",
              "      <td>4.55703</td>\n",
              "      <td>1.80829</td>\n",
              "      <td>2.2192</td>\n",
              "      <td>3.95124</td>\n",
              "      <td>2.04122</td>\n",
              "      <td>0</td>\n",
              "      <td>mar</td>\n",
              "      <td>fri</td>\n",
              "    </tr>\n",
              "    <tr>\n",
              "      <th>1</th>\n",
              "      <td>4.51743</td>\n",
              "      <td>3.59457</td>\n",
              "      <td>6.50743</td>\n",
              "      <td>2.04122</td>\n",
              "      <td>2.94444</td>\n",
              "      <td>3.52636</td>\n",
              "      <td>0.641854</td>\n",
              "      <td>0</td>\n",
              "      <td>oct</td>\n",
              "      <td>tue</td>\n",
              "    </tr>\n",
              "    <tr>\n",
              "      <th>2</th>\n",
              "      <td>4.51743</td>\n",
              "      <td>3.79997</td>\n",
              "      <td>6.53364</td>\n",
              "      <td>2.04122</td>\n",
              "      <td>2.74727</td>\n",
              "      <td>3.52636</td>\n",
              "      <td>0.832909</td>\n",
              "      <td>0</td>\n",
              "      <td>oct</td>\n",
              "      <td>sat</td>\n",
              "    </tr>\n",
              "    <tr>\n",
              "      <th>3</th>\n",
              "      <td>4.52937</td>\n",
              "      <td>3.53515</td>\n",
              "      <td>4.3631</td>\n",
              "      <td>2.30259</td>\n",
              "      <td>2.23001</td>\n",
              "      <td>4.58497</td>\n",
              "      <td>1.60944</td>\n",
              "      <td>0.182322</td>\n",
              "      <td>mar</td>\n",
              "      <td>fri</td>\n",
              "    </tr>\n",
              "    <tr>\n",
              "      <th>4</th>\n",
              "      <td>4.50314</td>\n",
              "      <td>3.957</td>\n",
              "      <td>4.63667</td>\n",
              "      <td>2.36085</td>\n",
              "      <td>2.5177</td>\n",
              "      <td>4.60517</td>\n",
              "      <td>1.02962</td>\n",
              "      <td>0</td>\n",
              "      <td>mar</td>\n",
              "      <td>sun</td>\n",
              "    </tr>\n",
              "    <tr>\n",
              "      <th>...</th>\n",
              "      <td>...</td>\n",
              "      <td>...</td>\n",
              "      <td>...</td>\n",
              "      <td>...</td>\n",
              "      <td>...</td>\n",
              "      <td>...</td>\n",
              "      <td>...</td>\n",
              "      <td>...</td>\n",
              "      <td>...</td>\n",
              "      <td>...</td>\n",
              "    </tr>\n",
              "    <tr>\n",
              "      <th>512</th>\n",
              "      <td>4.41401</td>\n",
              "      <td>4.05526</td>\n",
              "      <td>6.50219</td>\n",
              "      <td>1.06471</td>\n",
              "      <td>3.36038</td>\n",
              "      <td>3.49651</td>\n",
              "      <td>1.30833</td>\n",
              "      <td>0</td>\n",
              "      <td>aug</td>\n",
              "      <td>sun</td>\n",
              "    </tr>\n",
              "    <tr>\n",
              "      <th>513</th>\n",
              "      <td>4.41401</td>\n",
              "      <td>4.05526</td>\n",
              "      <td>6.50219</td>\n",
              "      <td>1.06471</td>\n",
              "      <td>3.13114</td>\n",
              "      <td>4.27667</td>\n",
              "      <td>1.91692</td>\n",
              "      <td>0</td>\n",
              "      <td>aug</td>\n",
              "      <td>sun</td>\n",
              "    </tr>\n",
              "    <tr>\n",
              "      <th>514</th>\n",
              "      <td>4.41401</td>\n",
              "      <td>4.05526</td>\n",
              "      <td>6.50219</td>\n",
              "      <td>1.06471</td>\n",
              "      <td>3.10009</td>\n",
              "      <td>4.26268</td>\n",
              "      <td>2.04122</td>\n",
              "      <td>0</td>\n",
              "      <td>aug</td>\n",
              "      <td>sun</td>\n",
              "    </tr>\n",
              "    <tr>\n",
              "      <th>515</th>\n",
              "      <td>4.55808</td>\n",
              "      <td>4.99043</td>\n",
              "      <td>6.42276</td>\n",
              "      <td>2.5096</td>\n",
              "      <td>3.28091</td>\n",
              "      <td>3.7612</td>\n",
              "      <td>1.60944</td>\n",
              "      <td>0</td>\n",
              "      <td>aug</td>\n",
              "      <td>sat</td>\n",
              "    </tr>\n",
              "    <tr>\n",
              "      <th>516</th>\n",
              "      <td>4.38826</td>\n",
              "      <td>1.38629</td>\n",
              "      <td>4.67935</td>\n",
              "      <td>0.741937</td>\n",
              "      <td>2.54945</td>\n",
              "      <td>3.46574</td>\n",
              "      <td>1.70475</td>\n",
              "      <td>0</td>\n",
              "      <td>nov</td>\n",
              "      <td>tue</td>\n",
              "    </tr>\n",
              "  </tbody>\n",
              "</table>\n",
              "<p>517 rows × 10 columns</p>\n",
              "</div>"
            ],
            "text/plain": [
              "        FFMC      DMC       DC       ISI  ...      wind      rain month  day\n",
              "0     4.4682  3.30322  4.55703   1.80829  ...   2.04122         0   mar  fri\n",
              "1    4.51743  3.59457  6.50743   2.04122  ...  0.641854         0   oct  tue\n",
              "2    4.51743  3.79997  6.53364   2.04122  ...  0.832909         0   oct  sat\n",
              "3    4.52937  3.53515   4.3631   2.30259  ...   1.60944  0.182322   mar  fri\n",
              "4    4.50314    3.957  4.63667   2.36085  ...   1.02962         0   mar  sun\n",
              "..       ...      ...      ...       ...  ...       ...       ...   ...  ...\n",
              "512  4.41401  4.05526  6.50219   1.06471  ...   1.30833         0   aug  sun\n",
              "513  4.41401  4.05526  6.50219   1.06471  ...   1.91692         0   aug  sun\n",
              "514  4.41401  4.05526  6.50219   1.06471  ...   2.04122         0   aug  sun\n",
              "515  4.55808  4.99043  6.42276    2.5096  ...   1.60944         0   aug  sat\n",
              "516  4.38826  1.38629  4.67935  0.741937  ...   1.70475         0   nov  tue\n",
              "\n",
              "[517 rows x 10 columns]"
            ]
          },
          "metadata": {
            "tags": []
          },
          "execution_count": 8
        }
      ]
    },
    {
      "cell_type": "code",
      "metadata": {
        "id": "GWqpiejX9ZXA"
      },
      "source": [
        "# One-hot encode\n",
        "X = pd.get_dummies(X, columns=['month', 'day'])\n",
        "scaler = StandardScaler()\n",
        "X = scaler.fit_transform(X)"
      ],
      "execution_count": null,
      "outputs": []
    },
    {
      "cell_type": "markdown",
      "metadata": {
        "id": "2BELeJzgkdl8"
      },
      "source": [
        "## Your Turn: Perform OMP on this dataset\n",
        "Steps\n",
        "1. Split the dataset as you did before (Notice here that it is random splitting so the MSE you will recover will be different each time)\n",
        "2. Fit LR model to the training data and predict on the testing data and report the MSE of the entire dataset without removing any outliers. \n",
        "3. Perform OMP on the training set and then do the same thing an perform LR on the newly outlier free dataset. (Here select the number of data points removed to be low because the number of outliers in this set does not exceed 5)"
      ]
    },
    {
      "cell_type": "code",
      "metadata": {
        "id": "qVrK_3AT97tO",
        "colab": {
          "base_uri": "https://localhost:8080/"
        },
        "outputId": "1410c5ff-d3ba-44f6-ad23-703511e9ab3c"
      },
      "source": [
        "#split train test \n",
        "X_train, X_test, y_train, y_test = train_test_split(X, y, test_size = 0.2, random_state = 189)\n",
        "y_train = y_train.to_numpy()\n",
        "y_test = y_test.to_numpy()\n",
        "print(np.count_nonzero(y_train))\n",
        "print(np.count_nonzero(y_test))\n",
        "# scale to be centered data\n",
        "# scaler = StandardScaler()\n",
        "# X_train = scaler.fit_transform(X_train)\n",
        "# X_test = scaler.fit_transform(X_test)\n",
        "\n",
        "## Perform Linear Regression and print the MSE\n",
        "\n",
        "model = LinearRegression()\n",
        "model.fit(X_train, y_train)\n",
        "\n",
        "ypred = model.predict(X_test)\n",
        "MSE = mean_squared_error(ypred, y_test)\n",
        "Rsquared = r2_score(ypred, y_test)\n",
        "print(\"MSE: \", MSE)"
      ],
      "execution_count": null,
      "outputs": [
        {
          "output_type": "stream",
          "text": [
            "216\n",
            "54\n",
            "MSE:  1107.493368629557\n"
          ],
          "name": "stdout"
        }
      ]
    },
    {
      "cell_type": "code",
      "metadata": {
        "id": "JRyKusXracie"
      },
      "source": [
        "## TODO: Implement a function to delete and return your outlier free training set\n",
        "def get_new_XY(X_train, y_train, k):\n",
        "  # Input:\n",
        "  #   X_train: Training Data to run outlier removal\n",
        "  #   y_train: Labels of training data to run outlier detection on\n",
        "  #   k: Sparsity (How many outliers to detect) (Recall <5)\n",
        "  # Output:\n",
        "  #   X_train_new: Outlier free feature training data\n",
        "  #   y_train_new: Outlier free label training data\n",
        "  \n",
        "  indices = omp_outlier_detection(X_train, y_train, k)\n",
        "  X_train_new = np.delete(X_train, indices, axis=0)\n",
        "  y_train_new = np.delete(y_train, indices, axis=0)\n",
        "  return X_train_new, y_train_new"
      ],
      "execution_count": null,
      "outputs": []
    },
    {
      "cell_type": "code",
      "metadata": {
        "id": "_v6VNvGdarGl"
      },
      "source": [
        "## TODO: Create A prediction function for the outlier free data\n",
        "def predict_new(X_train_new, y_train_new):\n",
        "  # Input:\n",
        "  #   X_train_new: Outlier free feature training data\n",
        "  #   y_train_new: Outlier free label training data\n",
        "  # Output:\n",
        "  #   MSE: Mean Squared Error on the Test Set\n",
        "  #   Rsquared : Correlation Coefficient on Test Set\n",
        "  \n",
        "  model = LinearRegression()\n",
        "  model.fit(X_train_new, y_train_new)\n",
        "\n",
        "  ypred = model.predict(X_test)\n",
        "  MSE = mean_squared_error(ypred, y_test)\n",
        "  Rsquared = r2_score(ypred, y_test)\n",
        "  return MSE, Rsquared"
      ],
      "execution_count": null,
      "outputs": []
    },
    {
      "cell_type": "markdown",
      "metadata": {
        "id": "yxkWjrcUKG0Z"
      },
      "source": [
        "Below is Code Given to you to see the effect of removing multiple outliers and the resultant MSE after a certain number of outliers are removed."
      ]
    },
    {
      "cell_type": "code",
      "metadata": {
        "id": "06EF5X4deKWt",
        "colab": {
          "base_uri": "https://localhost:8080/",
          "height": 328,
          "referenced_widgets": [
            "6909cd2447ab4d3da28d2525a80c0949",
            "e467b241ec4741fcb0f004b8f41d0610",
            "1eead67da2ed4fb5b4aa5daff4b88648",
            "4b4743d502684701a74aaaafe2543c7e",
            "e942d76424364ed1a422b827d6f8ea22",
            "0f770eb1616c4d9ca326c2d853b31a79",
            "0b32262e4a4d4056aa7de63de46d31f5"
          ]
        },
        "outputId": "763b2df0-a229-4a46-b844-5734f95180ca"
      },
      "source": [
        "mses = []\n",
        "r2 = []\n",
        "max_outlier = 100\n",
        "for k in range(0, max_outlier):\n",
        "  D = get_new_XY(X_train, y_train, k)\n",
        "  errors = predict_new(D[0], D[1])\n",
        "  mses.append((errors[0]))\n",
        "  r2.append(errors[1])\n",
        "ind = np.linspace(0, max_outlier-1, max_outlier)\n",
        "msesArray = np.asarray(mses)\n",
        "r2Array = np.asarray(r2)\n",
        "\n",
        "plt.figure(1)\n",
        "plt.plot(ind, msesArray)\n",
        "plt.xlabel(\"Number of Outliers Removed\")\n",
        "plt.ylabel(\"MSE Error on Prediction\")\n",
        "\n",
        "def MSEInteractive(k):\n",
        "  D = get_new_XY(X_train, y_train, k)\n",
        "  errors = predict_new(D[0], D[1])\n",
        "  mse = errors[0]\n",
        "  print(\"MSE: \", mse)\n",
        "\n",
        "interactiveMSE = interactive(MSEInteractive,\n",
        "                               k=generate_num_outliers())\n",
        "interactiveMSE\n"
      ],
      "execution_count": null,
      "outputs": [
        {
          "output_type": "display_data",
          "data": {
            "application/vnd.jupyter.widget-view+json": {
              "model_id": "6909cd2447ab4d3da28d2525a80c0949",
              "version_minor": 0,
              "version_major": 2
            },
            "text/plain": [
              "interactive(children=(IntSlider(value=0, continuous_update=False, description='Sparisty k', max=50), Output())…"
            ]
          },
          "metadata": {
            "tags": []
          }
        },
        {
          "output_type": "display_data",
          "data": {
            "image/png": "[encoded data removed]",
            "text/plain": [
              "<Figure size 432x288 with 1 Axes>"
            ]
          },
          "metadata": {
            "tags": [],
            "needs_background": "light"
          }
        }
      ]
    },
    {
      "cell_type": "markdown",
      "metadata": {
        "id": "rsiwHhodll5v"
      },
      "source": [
        "**Q: Your graph should have a steep drop and then a steady incline after. What is the approximate optimal number of outliers to remove? Why does the graph form this shape?**"
      ]
    },
    {
      "cell_type": "markdown",
      "metadata": {
        "id": "mKa35mrqmrw_"
      },
      "source": [
        "A: Optimal number of outliers to remove is 5-10. Removing the first couple outliers leads to a steep drop in our MSE because we're getting rid of data that negatively impacts our predictor. However, the MSE begins to increase steadily afterwards because we start throwing away useful training points that are not outliers."
      ]
    },
    {
      "cell_type": "code",
      "metadata": {
        "id": "Mpqcq9FvnM0W"
      },
      "source": [
        ""
      ],
      "execution_count": null,
      "outputs": []
    }
  ]
}